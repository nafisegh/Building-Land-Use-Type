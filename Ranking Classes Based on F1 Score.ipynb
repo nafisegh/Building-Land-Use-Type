{
 "cells": [
  {
   "cell_type": "code",
   "execution_count": 35,
   "metadata": {},
   "outputs": [
    {
     "name": "stdout",
     "output_type": "stream",
     "text": [
      "(5120, 5120)\n"
     ]
    }
   ],
   "source": [
    "from PIL import Image\n",
    "\n",
    "gray = Image.open(r'F:\\Backup_Nafiseh_Hard_Drives\\BIC_GSV.tar\\BIC_GSV\\fortworth_test_region\\fortworth_groundtruth.png').convert('L')\n",
    "\n",
    "print(gray.size)\n",
    "\n",
    "gray.save(r'F:\\Backup_Nafiseh_Hard_Drives\\BIC_GSV.tar\\BIC_GSV\\fortworth_test_region\\vancouver_groundtruth_gray.png')"
   ]
  },
  {
   "cell_type": "code",
   "execution_count": 36,
   "metadata": {},
   "outputs": [
    {
     "name": "stdout",
     "output_type": "stream",
     "text": [
      "(5120, 5120)\n"
     ]
    }
   ],
   "source": [
    "import numpy as np\n",
    "\n",
    "gt_gray = np.array(Image.open(r'F:\\Backup_Nafiseh_Hard_Drives\\BIC_GSV.tar\\BIC_GSV\\fortworth_test_region\\fortworth_groundtruth_gray.png'))\n",
    "\n",
    "gt_gray[gt_gray == 0] = 6\n",
    "\n",
    "gt_gray[gt_gray == 29] = 4\n",
    "\n",
    "gt_gray[gt_gray == 38] = 2\n",
    "\n",
    "gt_gray[gt_gray == 76] = 3\n",
    "\n",
    "gt_gray[gt_gray == 90] = 3\n",
    "\n",
    "gt_gray[gt_gray == 105] = 5\n",
    "\n",
    "gt_gray[gt_gray == 142] = 0\n",
    "\n",
    "gt_gray[gt_gray == 150] = 4\n",
    "\n",
    "gt_gray[gt_gray == 179] = 3\n",
    "\n",
    "print(gt_gray.shape)"
   ]
  },
  {
   "cell_type": "markdown",
   "metadata": {},
   "source": [
    "# Read Predicted Maps (Vancouver)"
   ]
  },
  {
   "cell_type": "code",
   "execution_count": 37,
   "metadata": {},
   "outputs": [
    {
     "name": "stdout",
     "output_type": "stream",
     "text": [
      "(255, 381)\n",
      "(255, 381)\n",
      "(255, 381)\n",
      "(2560, 2560)\n",
      "(2560, 2560) (2560, 2560) (2560, 2560)\n"
     ]
    }
   ],
   "source": [
    "import numpy as np\n",
    "from PIL import Image\n",
    "\n",
    "from PIL.Image import Resampling\n",
    "\n",
    "from sklearn.metrics import classification_report\n",
    "\n",
    "def open_image(image_path):\n",
    "\n",
    "\n",
    "    image_array = np.array(Image.open(image_path))\n",
    "\n",
    "    print(image_array.shape)\n",
    "\n",
    "    return(image_array)\n",
    "\n",
    "###\n",
    "\n",
    "ortho_image_path = r'D:\\Nafiseh\\building_type\\Orthophoto_Vancouver_Predicted_Map_2.tif'\n",
    "\n",
    "lidar_image_path = r'D:\\Nafiseh\\building_type\\LiDAR_Vancouver_Predicted_Map_2.tif'\n",
    "\n",
    "gsv_image_path = r'D:\\Nafiseh\\building_type\\GSV_Vancouver_Predicted_Map_2.tif'\n",
    "\n",
    "gt_image_path = r'F:\\Backup_Nafiseh_Hard_Drives\\BIC_GSV.tar\\BIC_GSV\\vancouver_test_region\\vancouver_groundtruth_gray.png'\n",
    "\n",
    "##\n",
    "\n",
    "ortho_image_array = open_image(ortho_image_path)\n",
    "\n",
    "lidar_image_array = open_image(lidar_image_path)\n",
    "\n",
    "gsv_image_array = open_image(gsv_image_path)\n",
    "\n",
    "gt_image_array = open_image(gt_image_path)\n",
    "\n",
    "### resize arrays to ground truth array size\n",
    "\n",
    "ortho_image_array_r = np.array(Image.fromarray(ortho_image_array).resize((gt_image_array.shape[0],gt_image_array.shape[1]), resample = Resampling.NEAREST))\n",
    "                                \n",
    "lidar_image_array_r = np.array(Image.fromarray(lidar_image_array).resize((gt_image_array.shape[0],gt_image_array.shape[1]), resample = Resampling.NEAREST))\n",
    "\n",
    "gsv_image_array_r = np.array(Image.fromarray(gsv_image_array).resize((gt_image_array.shape[0],gt_image_array.shape[1]), resample = Resampling.NEAREST))\n",
    "\n",
    "print(ortho_image_array_r.shape, lidar_image_array_r.shape, gsv_image_array_r.shape)"
   ]
  },
  {
   "cell_type": "markdown",
   "metadata": {},
   "source": [
    "# Read Predicted Maps (Fortworth)"
   ]
  },
  {
   "cell_type": "code",
   "execution_count": 38,
   "metadata": {},
   "outputs": [
    {
     "name": "stdout",
     "output_type": "stream",
     "text": [
      "(212, 212)\n",
      "(212, 212)\n",
      "(212, 212)\n",
      "(5120, 5120)\n",
      "(5120, 5120) (5120, 5120) (5120, 5120)\n"
     ]
    }
   ],
   "source": [
    "import numpy as np\n",
    "from PIL import Image\n",
    "\n",
    "from PIL.Image import Resampling\n",
    "\n",
    "from sklearn.metrics import classification_report\n",
    "\n",
    "def open_image(image_path):\n",
    "\n",
    "\n",
    "    image_array = np.array(Image.open(image_path))\n",
    "\n",
    "    print(image_array.shape)\n",
    "\n",
    "    return(image_array)\n",
    "\n",
    "###\n",
    "\n",
    "ortho_image_path_f = r'D:\\Nafiseh\\building_type\\Orthophoto_Fortworth_Predicted_Map_2.tif'\n",
    "\n",
    "lidar_image_path_f = r'D:\\Nafiseh\\building_type\\LiDAR_Fortworth_Predicted_Map_2.tif'\n",
    "\n",
    "gsv_image_path_f = r'D:\\Nafiseh\\building_type\\GSV_Fortworth_Predicted_Map_2.tif'\n",
    "\n",
    "gt_image_path_f = r'F:\\Backup_Nafiseh_Hard_Drives\\BIC_GSV.tar\\BIC_GSV\\fortworth_test_region\\fortworth_groundtruth_gray.png'\n",
    "\n",
    "##\n",
    "\n",
    "ortho_image_array_f = open_image(ortho_image_path_f)\n",
    "\n",
    "lidar_image_array_f = open_image(lidar_image_path_f)\n",
    "\n",
    "gsv_image_array_f = open_image(gsv_image_path_f)\n",
    "\n",
    "gt_image_array_f = open_image(gt_image_path_f)\n",
    "\n",
    "### resize arrays to ground truth array size\n",
    "\n",
    "ortho_image_array_f_r = np.array(Image.fromarray(ortho_image_array_f).resize((gt_image_array_f.shape[0],gt_image_array_f.shape[1]), resample = Resampling.NEAREST))\n",
    "                                \n",
    "lidar_image_array_f_r = np.array(Image.fromarray(lidar_image_array_f).resize((gt_image_array_f.shape[0],gt_image_array_f.shape[1]), resample = Resampling.NEAREST))\n",
    "    \n",
    "gsv_image_array_f_r = np.array(Image.fromarray(gsv_image_array_f).resize((gt_image_array_f.shape[0],gt_image_array_f.shape[1]), resample = Resampling.NEAREST))\n",
    "\n",
    "\n",
    "print(ortho_image_array_f_r.shape, lidar_image_array_f_r.shape, gsv_image_array_f_r.shape)"
   ]
  },
  {
   "cell_type": "markdown",
   "metadata": {},
   "source": [
    "# Show Label Values for Ground Truth and Predicted Maps (Vancouver)"
   ]
  },
  {
   "cell_type": "code",
   "execution_count": 39,
   "metadata": {},
   "outputs": [
    {
     "data": {
      "text/html": [
       "<div>\n",
       "<style scoped>\n",
       "    .dataframe tbody tr th:only-of-type {\n",
       "        vertical-align: middle;\n",
       "    }\n",
       "\n",
       "    .dataframe tbody tr th {\n",
       "        vertical-align: top;\n",
       "    }\n",
       "\n",
       "    .dataframe thead th {\n",
       "        text-align: right;\n",
       "    }\n",
       "</style>\n",
       "<table border=\"1\" class=\"dataframe\">\n",
       "  <thead>\n",
       "    <tr style=\"text-align: right;\">\n",
       "      <th></th>\n",
       "      <th>class name (ground truth)</th>\n",
       "    </tr>\n",
       "  </thead>\n",
       "  <tbody>\n",
       "    <tr>\n",
       "      <th>0</th>\n",
       "      <td>background</td>\n",
       "    </tr>\n",
       "    <tr>\n",
       "      <th>29</th>\n",
       "      <td>apartment</td>\n",
       "    </tr>\n",
       "    <tr>\n",
       "      <th>38</th>\n",
       "      <td>office building</td>\n",
       "    </tr>\n",
       "    <tr>\n",
       "      <th>90</th>\n",
       "      <td>garage</td>\n",
       "    </tr>\n",
       "    <tr>\n",
       "      <th>105</th>\n",
       "      <td>retail</td>\n",
       "    </tr>\n",
       "    <tr>\n",
       "      <th>142</th>\n",
       "      <td>industrial</td>\n",
       "    </tr>\n",
       "    <tr>\n",
       "      <th>150</th>\n",
       "      <td>house</td>\n",
       "    </tr>\n",
       "    <tr>\n",
       "      <th>179</th>\n",
       "      <td>church</td>\n",
       "    </tr>\n",
       "  </tbody>\n",
       "</table>\n",
       "</div>"
      ],
      "text/plain": [
       "    class name (ground truth)\n",
       "0                  background\n",
       "29                  apartment\n",
       "38            office building\n",
       "90                     garage\n",
       "105                    retail\n",
       "142                industrial\n",
       "150                     house\n",
       "179                    church"
      ]
     },
     "metadata": {},
     "output_type": "display_data"
    },
    {
     "data": {
      "text/html": [
       "<div>\n",
       "<style scoped>\n",
       "    .dataframe tbody tr th:only-of-type {\n",
       "        vertical-align: middle;\n",
       "    }\n",
       "\n",
       "    .dataframe tbody tr th {\n",
       "        vertical-align: top;\n",
       "    }\n",
       "\n",
       "    .dataframe thead th {\n",
       "        text-align: right;\n",
       "    }\n",
       "</style>\n",
       "<table border=\"1\" class=\"dataframe\">\n",
       "  <thead>\n",
       "    <tr style=\"text-align: right;\">\n",
       "      <th></th>\n",
       "      <th>class name (orthophoto/lidar)</th>\n",
       "    </tr>\n",
       "  </thead>\n",
       "  <tbody>\n",
       "    <tr>\n",
       "      <th>0</th>\n",
       "      <td>industrial</td>\n",
       "    </tr>\n",
       "    <tr>\n",
       "      <th>17</th>\n",
       "      <td>institutional</td>\n",
       "    </tr>\n",
       "    <tr>\n",
       "      <th>34</th>\n",
       "      <td>office building</td>\n",
       "    </tr>\n",
       "    <tr>\n",
       "      <th>51</th>\n",
       "      <td>other</td>\n",
       "    </tr>\n",
       "    <tr>\n",
       "      <th>68</th>\n",
       "      <td>residential</td>\n",
       "    </tr>\n",
       "    <tr>\n",
       "      <th>85</th>\n",
       "      <td>retail</td>\n",
       "    </tr>\n",
       "    <tr>\n",
       "      <th>255</th>\n",
       "      <td>background</td>\n",
       "    </tr>\n",
       "  </tbody>\n",
       "</table>\n",
       "</div>"
      ],
      "text/plain": [
       "    class name (orthophoto/lidar)\n",
       "0                      industrial\n",
       "17                  institutional\n",
       "34                office building\n",
       "51                          other\n",
       "68                    residential\n",
       "85                         retail\n",
       "255                    background"
      ]
     },
     "metadata": {},
     "output_type": "display_data"
    },
    {
     "data": {
      "text/html": [
       "<div>\n",
       "<style scoped>\n",
       "    .dataframe tbody tr th:only-of-type {\n",
       "        vertical-align: middle;\n",
       "    }\n",
       "\n",
       "    .dataframe tbody tr th {\n",
       "        vertical-align: top;\n",
       "    }\n",
       "\n",
       "    .dataframe thead th {\n",
       "        text-align: right;\n",
       "    }\n",
       "</style>\n",
       "<table border=\"1\" class=\"dataframe\">\n",
       "  <thead>\n",
       "    <tr style=\"text-align: right;\">\n",
       "      <th></th>\n",
       "      <th>class name (gsv)</th>\n",
       "    </tr>\n",
       "  </thead>\n",
       "  <tbody>\n",
       "    <tr>\n",
       "      <th>0</th>\n",
       "      <td>apartment</td>\n",
       "    </tr>\n",
       "    <tr>\n",
       "      <th>17</th>\n",
       "      <td>church</td>\n",
       "    </tr>\n",
       "    <tr>\n",
       "      <th>34</th>\n",
       "      <td>house</td>\n",
       "    </tr>\n",
       "    <tr>\n",
       "      <th>51</th>\n",
       "      <td>industrial</td>\n",
       "    </tr>\n",
       "    <tr>\n",
       "      <th>68</th>\n",
       "      <td>mixed r/c</td>\n",
       "    </tr>\n",
       "    <tr>\n",
       "      <th>85</th>\n",
       "      <td>office building</td>\n",
       "    </tr>\n",
       "    <tr>\n",
       "      <th>102</th>\n",
       "      <td>retail</td>\n",
       "    </tr>\n",
       "    <tr>\n",
       "      <th>255</th>\n",
       "      <td>background</td>\n",
       "    </tr>\n",
       "  </tbody>\n",
       "</table>\n",
       "</div>"
      ],
      "text/plain": [
       "    class name (gsv)\n",
       "0          apartment\n",
       "17            church\n",
       "34             house\n",
       "51        industrial\n",
       "68         mixed r/c\n",
       "85   office building\n",
       "102           retail\n",
       "255       background"
      ]
     },
     "metadata": {},
     "output_type": "display_data"
    }
   ],
   "source": [
    "import pandas as pd\n",
    "\n",
    "# Ground Truth Labels\n",
    "\n",
    "df_gt = pd.DataFrame({'class name (ground truth)': ['background', 'apartment','office building', 'garage', 'retail', 'industrial', 'house', 'church']}\n",
    "              ,index = np.unique(gt_image_array))\n",
    "\n",
    "# Orthophoto and LiDAR Labels\n",
    "\n",
    "df_ortho_and_lidar = pd.DataFrame({'class name (orthophoto/lidar)': ['industrial', 'institutional', 'office building', 'other', 'residential', \n",
    "                                   'retail', 'background']}, index = np.unique(ortho_image_array))\n",
    "\n",
    "\n",
    "df_gsv = pd.DataFrame({'class name (gsv)': ['apartment', 'church', 'house', 'industrial', 'mixed r/c', 'office building',\n",
    "                                   'retail', 'background']}, index = np.unique(gsv_image_array))\n",
    "\n",
    "display(df_gt, df_ortho_and_lidar, df_gsv)"
   ]
  },
  {
   "cell_type": "markdown",
   "metadata": {},
   "source": [
    "# Show Label Values for Ground Truth and Predicted Maps (Fortworth)"
   ]
  },
  {
   "cell_type": "code",
   "execution_count": 40,
   "metadata": {},
   "outputs": [
    {
     "data": {
      "text/html": [
       "<div>\n",
       "<style scoped>\n",
       "    .dataframe tbody tr th:only-of-type {\n",
       "        vertical-align: middle;\n",
       "    }\n",
       "\n",
       "    .dataframe tbody tr th {\n",
       "        vertical-align: top;\n",
       "    }\n",
       "\n",
       "    .dataframe thead th {\n",
       "        text-align: right;\n",
       "    }\n",
       "</style>\n",
       "<table border=\"1\" class=\"dataframe\">\n",
       "  <thead>\n",
       "    <tr style=\"text-align: right;\">\n",
       "      <th></th>\n",
       "      <th>class name (ground truth)</th>\n",
       "    </tr>\n",
       "  </thead>\n",
       "  <tbody>\n",
       "    <tr>\n",
       "      <th>0</th>\n",
       "      <td>background</td>\n",
       "    </tr>\n",
       "    <tr>\n",
       "      <th>29</th>\n",
       "      <td>apartment</td>\n",
       "    </tr>\n",
       "    <tr>\n",
       "      <th>38</th>\n",
       "      <td>office building</td>\n",
       "    </tr>\n",
       "    <tr>\n",
       "      <th>76</th>\n",
       "      <td>roof</td>\n",
       "    </tr>\n",
       "    <tr>\n",
       "      <th>90</th>\n",
       "      <td>garage</td>\n",
       "    </tr>\n",
       "    <tr>\n",
       "      <th>105</th>\n",
       "      <td>retail</td>\n",
       "    </tr>\n",
       "    <tr>\n",
       "      <th>142</th>\n",
       "      <td>industrial</td>\n",
       "    </tr>\n",
       "    <tr>\n",
       "      <th>150</th>\n",
       "      <td>house</td>\n",
       "    </tr>\n",
       "    <tr>\n",
       "      <th>179</th>\n",
       "      <td>church</td>\n",
       "    </tr>\n",
       "  </tbody>\n",
       "</table>\n",
       "</div>"
      ],
      "text/plain": [
       "    class name (ground truth)\n",
       "0                  background\n",
       "29                  apartment\n",
       "38            office building\n",
       "76                       roof\n",
       "90                     garage\n",
       "105                    retail\n",
       "142                industrial\n",
       "150                     house\n",
       "179                    church"
      ]
     },
     "metadata": {},
     "output_type": "display_data"
    },
    {
     "data": {
      "text/html": [
       "<div>\n",
       "<style scoped>\n",
       "    .dataframe tbody tr th:only-of-type {\n",
       "        vertical-align: middle;\n",
       "    }\n",
       "\n",
       "    .dataframe tbody tr th {\n",
       "        vertical-align: top;\n",
       "    }\n",
       "\n",
       "    .dataframe thead th {\n",
       "        text-align: right;\n",
       "    }\n",
       "</style>\n",
       "<table border=\"1\" class=\"dataframe\">\n",
       "  <thead>\n",
       "    <tr style=\"text-align: right;\">\n",
       "      <th></th>\n",
       "      <th>class name (orthophoto/lidar)</th>\n",
       "    </tr>\n",
       "  </thead>\n",
       "  <tbody>\n",
       "    <tr>\n",
       "      <th>0</th>\n",
       "      <td>industrial</td>\n",
       "    </tr>\n",
       "    <tr>\n",
       "      <th>17</th>\n",
       "      <td>institutional</td>\n",
       "    </tr>\n",
       "    <tr>\n",
       "      <th>34</th>\n",
       "      <td>office building</td>\n",
       "    </tr>\n",
       "    <tr>\n",
       "      <th>51</th>\n",
       "      <td>other</td>\n",
       "    </tr>\n",
       "    <tr>\n",
       "      <th>68</th>\n",
       "      <td>residential</td>\n",
       "    </tr>\n",
       "    <tr>\n",
       "      <th>85</th>\n",
       "      <td>retail</td>\n",
       "    </tr>\n",
       "    <tr>\n",
       "      <th>255</th>\n",
       "      <td>background</td>\n",
       "    </tr>\n",
       "  </tbody>\n",
       "</table>\n",
       "</div>"
      ],
      "text/plain": [
       "    class name (orthophoto/lidar)\n",
       "0                      industrial\n",
       "17                  institutional\n",
       "34                office building\n",
       "51                          other\n",
       "68                    residential\n",
       "85                         retail\n",
       "255                    background"
      ]
     },
     "metadata": {},
     "output_type": "display_data"
    }
   ],
   "source": [
    "import pandas as pd\n",
    "\n",
    "# Ground Truth Labels\n",
    "\n",
    "df_gt_f = pd.DataFrame({'class name (ground truth)': ['background', 'apartment','office building', 'roof','garage', 'retail', 'industrial', 'house', 'church']}\n",
    "              ,index = np.unique(gt_image_array_f))\n",
    "\n",
    "# Orthophoto and LiDAR Labels\n",
    "\n",
    "df_ortho_and_lidar_f = pd.DataFrame({'class name (orthophoto/lidar)': ['industrial', 'institutional', 'office building', 'other', 'residential', \n",
    "                                   'retail', 'background']}, index = np.unique(ortho_image_array_f))\n",
    "\n",
    "df_gsv_f = pd.DataFrame({'class name (gsv)': ['apartment', 'church', 'industrial', 'mixed r/c', 'office building',\n",
    "                                   'retail', 'background']}, index = np.unique(gsv_image_array_f))\n",
    "\n",
    "display(df_gt_f, df_ortho_and_lidar_f)"
   ]
  },
  {
   "cell_type": "markdown",
   "metadata": {},
   "source": [
    "# Make Labels Consistent "
   ]
  },
  {
   "cell_type": "code",
   "execution_count": 41,
   "metadata": {},
   "outputs": [],
   "source": [
    "def make_gt_labels_same_as_ortho_and_lidar(gt):\n",
    "    \n",
    "    gtt = np.copy(gt)\n",
    "\n",
    "    gtt [gt == 0] = 255 #background\n",
    "\n",
    "    gtt [(gt == 29) | (gt == 150)] = 68  #residential\n",
    "\n",
    "    gtt [gt == 38] = 34 #office building\n",
    "\n",
    "    gtt [(gt == 76) | (gt == 90)] = 51  #garage and roof >> other\n",
    "\n",
    "    gtt [gt == 105] = 85 #retail\n",
    "\n",
    "    gtt [gt == 142] = 0 #industrial\n",
    "\n",
    "    gtt [gt == 179] = 17 #institutional\n",
    "    \n",
    "    return(gtt)\n",
    "\n",
    "def make_gt_labels_same_as_gsv(gt, gsv):\n",
    "    \n",
    "        \n",
    "    gtt = np.copy(gt)\n",
    "\n",
    "    gtt [gt == 0] = 255 #background\n",
    "\n",
    "    gtt [gt == 29] = 0  #apartment\n",
    "\n",
    "    gtt [gt == 38] = 85 #office building\n",
    "\n",
    "    gtt [gt == 142] = 51 #industrial\n",
    "    \n",
    "    gtt [gt == 150] = 34 #house\n",
    "\n",
    "    gtt [gt == 105] = 102 # retail\n",
    "    \n",
    "    gtt [gt == 179] = 17 #church\n",
    "\n",
    "    gtt [(gt == 76) | (gt == 90)] = 95 #roof and garage >> other\n",
    "    \n",
    "    gsv [gsv == 68] = 34  #there is no mixed r/c in ground truth so I relabeld them to house\n",
    "    \n",
    "    return(gtt,gsv)"
   ]
  },
  {
   "cell_type": "markdown",
   "metadata": {},
   "source": [
    "# Vancouver"
   ]
  },
  {
   "cell_type": "code",
   "execution_count": 42,
   "metadata": {},
   "outputs": [
    {
     "name": "stdout",
     "output_type": "stream",
     "text": [
      "[  0  17  34  51  68  85 255]\n",
      "[  0  17  34  51  85  95 102 255]\n"
     ]
    }
   ],
   "source": [
    "gt_image_arrayy = make_gt_labels_same_as_ortho_and_lidar(gt_image_array)\n",
    "\n",
    "print(np.unique(gt_image_arrayy))\n",
    "\n",
    "gt_image_arrayy_gsv, gsv_image_array_r_new = make_gt_labels_same_as_gsv(gt_image_array, gsv_image_array_r)\n",
    "\n",
    "print(np.unique(gt_image_arrayy_gsv))"
   ]
  },
  {
   "cell_type": "markdown",
   "metadata": {},
   "source": [
    "# Fortworth"
   ]
  },
  {
   "cell_type": "code",
   "execution_count": 43,
   "metadata": {},
   "outputs": [
    {
     "name": "stdout",
     "output_type": "stream",
     "text": [
      "[  0  17  34  51  68  85 255]\n",
      "[  0  17  34  51  85  95 102 255]\n"
     ]
    }
   ],
   "source": [
    "gt_image_arrayy_f = make_gt_labels_same_as_ortho_and_lidar(gt_image_array_f)\n",
    "\n",
    "print(np.unique(gt_image_arrayy_f))\n",
    "\n",
    "gt_image_arrayy_f_gsv, gsv_image_array_r_f_new = make_gt_labels_same_as_gsv(gt_image_array_f, gsv_image_array_f_r)\n",
    "\n",
    "print(np.unique(gt_image_arrayy_f_gsv))"
   ]
  },
  {
   "cell_type": "markdown",
   "metadata": {},
   "source": [
    "# Calculate Accuracies for Orthophoto (Vancouver)"
   ]
  },
  {
   "cell_type": "code",
   "execution_count": 44,
   "metadata": {},
   "outputs": [
    {
     "name": "stdout",
     "output_type": "stream",
     "text": [
      "[  0  17  34  51  68  85 255] [  0  17  34  51  68  85 255]\n",
      "                 precision    recall  f1-score   support\n",
      "\n",
      "     industrial       0.02      0.18      0.04     43668\n",
      "  institutional       0.00      0.00      0.00     15902\n",
      "office building       0.03      0.03      0.03    180637\n",
      "          other       0.01      0.04      0.01    115192\n",
      "    residential       0.43      0.12      0.19   1214447\n",
      "         retail       0.23      0.22      0.23    382736\n",
      "     background       0.85      0.86      0.85   4601018\n",
      "\n",
      "       accuracy                           0.64   6553600\n",
      "      macro avg       0.22      0.21      0.19   6553600\n",
      "   weighted avg       0.69      0.64      0.65   6553600\n",
      "\n"
     ]
    }
   ],
   "source": [
    "from sklearn.metrics import classification_report\n",
    "\n",
    "class_names =['industrial','institutional','office building','other','residential','retail','background']\n",
    "\n",
    "print(np.unique(gt_image_arrayy), np.unique(ortho_image_array_r))\n",
    "\n",
    "print(classification_report(np.ravel(gt_image_arrayy), np.ravel(ortho_image_array_r), target_names = class_names))"
   ]
  },
  {
   "cell_type": "markdown",
   "metadata": {},
   "source": [
    "# Calculate Accuracies for Orthophoto (Fortworth)"
   ]
  },
  {
   "cell_type": "code",
   "execution_count": 45,
   "metadata": {},
   "outputs": [
    {
     "name": "stdout",
     "output_type": "stream",
     "text": [
      "[  0  17  34  51  68  85 255] [  0  17  34  51  68  85 255]\n",
      "                 precision    recall  f1-score   support\n",
      "\n",
      "     industrial       0.00      0.00      0.00    444049\n",
      "  institutional       0.00      0.00      0.00    166926\n",
      "office building       0.59      0.13      0.21   4421130\n",
      "          other       0.01      0.03      0.01    315595\n",
      "    residential       0.02      0.02      0.02    495108\n",
      "         retail       0.02      0.18      0.04    214216\n",
      "     background       0.87      0.88      0.87  20157376\n",
      "\n",
      "       accuracy                           0.70  26214400\n",
      "      macro avg       0.22      0.18      0.16  26214400\n",
      "   weighted avg       0.77      0.70      0.71  26214400\n",
      "\n"
     ]
    }
   ],
   "source": [
    "from sklearn.metrics import classification_report\n",
    "\n",
    "class_names =['industrial','institutional','office building','other','residential','retail','background']\n",
    "\n",
    "print(np.unique(gt_image_arrayy), np.unique(ortho_image_array_r))\n",
    "\n",
    "print(classification_report(np.ravel(gt_image_arrayy_f), np.ravel(ortho_image_array_f_r), target_names = class_names))"
   ]
  },
  {
   "cell_type": "markdown",
   "metadata": {},
   "source": [
    "# Calculate Accuracies for LiDAR (Vancouver)"
   ]
  },
  {
   "cell_type": "code",
   "execution_count": 46,
   "metadata": {},
   "outputs": [
    {
     "name": "stdout",
     "output_type": "stream",
     "text": [
      "[  0  17  34  51  68  85 255] [  0  17  34  51  85 255]\n"
     ]
    },
    {
     "name": "stderr",
     "output_type": "stream",
     "text": [
      "C:\\Program Files\\ArcGIS\\Pro\\bin\\Python\\envs\\arcgispro-py3\\Lib\\site-packages\\sklearn\\metrics\\_classification.py:1318: UndefinedMetricWarning: Precision and F-score are ill-defined and being set to 0.0 in labels with no predicted samples. Use `zero_division` parameter to control this behavior.\n",
      "  _warn_prf(average, modifier, msg_start, len(result))\n",
      "C:\\Program Files\\ArcGIS\\Pro\\bin\\Python\\envs\\arcgispro-py3\\Lib\\site-packages\\sklearn\\metrics\\_classification.py:1318: UndefinedMetricWarning: Precision and F-score are ill-defined and being set to 0.0 in labels with no predicted samples. Use `zero_division` parameter to control this behavior.\n",
      "  _warn_prf(average, modifier, msg_start, len(result))\n",
      "C:\\Program Files\\ArcGIS\\Pro\\bin\\Python\\envs\\arcgispro-py3\\Lib\\site-packages\\sklearn\\metrics\\_classification.py:1318: UndefinedMetricWarning: Precision and F-score are ill-defined and being set to 0.0 in labels with no predicted samples. Use `zero_division` parameter to control this behavior.\n",
      "  _warn_prf(average, modifier, msg_start, len(result))\n"
     ]
    },
    {
     "name": "stdout",
     "output_type": "stream",
     "text": [
      "                 precision    recall  f1-score   support\n",
      "\n",
      "     industrial       0.00      0.00      0.00     43668\n",
      "  institutional       0.00      0.00      0.00     15902\n",
      "office building       0.04      0.23      0.07    180637\n",
      "          other       0.07      0.26      0.11    115192\n",
      "    residential       0.00      0.00      0.00   1214447\n",
      "         retail       0.00      0.00      0.00    382736\n",
      "     background       0.82      0.88      0.85   4601018\n",
      "\n",
      "       accuracy                           0.63   6553600\n",
      "      macro avg       0.13      0.20      0.15   6553600\n",
      "   weighted avg       0.58      0.63      0.60   6553600\n",
      "\n"
     ]
    }
   ],
   "source": [
    "from sklearn.metrics import classification_report\n",
    "\n",
    "class_names = ['industrial', 'institutional','office building','other','residential','retail','background']\n",
    "\n",
    "print(np.unique(gt_image_arrayy), np.unique(lidar_image_array_r))\n",
    "\n",
    "print(classification_report(np.ravel(gt_image_arrayy), np.ravel(lidar_image_array_r), target_names = class_names))"
   ]
  },
  {
   "cell_type": "markdown",
   "metadata": {},
   "source": [
    "# # Calculate Accuracies for LiDAR (Fortworth)"
   ]
  },
  {
   "cell_type": "code",
   "execution_count": 47,
   "metadata": {},
   "outputs": [
    {
     "name": "stdout",
     "output_type": "stream",
     "text": [
      "[  0  17  34  51  68  85 255] [  0  17  34  51  85 255]\n"
     ]
    },
    {
     "name": "stderr",
     "output_type": "stream",
     "text": [
      "C:\\Program Files\\ArcGIS\\Pro\\bin\\Python\\envs\\arcgispro-py3\\Lib\\site-packages\\sklearn\\metrics\\_classification.py:1318: UndefinedMetricWarning: Precision and F-score are ill-defined and being set to 0.0 in labels with no predicted samples. Use `zero_division` parameter to control this behavior.\n",
      "  _warn_prf(average, modifier, msg_start, len(result))\n",
      "C:\\Program Files\\ArcGIS\\Pro\\bin\\Python\\envs\\arcgispro-py3\\Lib\\site-packages\\sklearn\\metrics\\_classification.py:1318: UndefinedMetricWarning: Precision and F-score are ill-defined and being set to 0.0 in labels with no predicted samples. Use `zero_division` parameter to control this behavior.\n",
      "  _warn_prf(average, modifier, msg_start, len(result))\n",
      "C:\\Program Files\\ArcGIS\\Pro\\bin\\Python\\envs\\arcgispro-py3\\Lib\\site-packages\\sklearn\\metrics\\_classification.py:1318: UndefinedMetricWarning: Precision and F-score are ill-defined and being set to 0.0 in labels with no predicted samples. Use `zero_division` parameter to control this behavior.\n",
      "  _warn_prf(average, modifier, msg_start, len(result))\n"
     ]
    },
    {
     "name": "stdout",
     "output_type": "stream",
     "text": [
      "                 precision    recall  f1-score   support\n",
      "\n",
      "     industrial       0.05      0.13      0.07    444049\n",
      "  institutional       0.00      0.06      0.01    166926\n",
      "office building       0.38      0.07      0.12   4421130\n",
      "          other       0.00      0.00      0.00    315595\n",
      "    residential       0.00      0.00      0.00    495108\n",
      "         retail       0.01      0.03      0.01    214216\n",
      "     background       0.87      0.87      0.87  20157376\n",
      "\n",
      "       accuracy                           0.69  26214400\n",
      "      macro avg       0.19      0.17      0.16  26214400\n",
      "   weighted avg       0.74      0.69      0.69  26214400\n",
      "\n"
     ]
    }
   ],
   "source": [
    "from sklearn.metrics import classification_report\n",
    "\n",
    "class_names = ['industrial', 'institutional','office building','other','residential','retail','background']\n",
    "\n",
    "print(np.unique(gt_image_arrayy_f), np.unique(lidar_image_array_f_r))\n",
    "\n",
    "print(classification_report(np.ravel(gt_image_arrayy_f), np.ravel(lidar_image_array_f_r), target_names = class_names))"
   ]
  },
  {
   "cell_type": "markdown",
   "metadata": {},
   "source": [
    "# Calculate Accuracies for GSV (Vancouver)"
   ]
  },
  {
   "cell_type": "code",
   "execution_count": 209,
   "metadata": {},
   "outputs": [
    {
     "name": "stdout",
     "output_type": "stream",
     "text": [
      "[  0  17  34  51  85  95 102 255] [  0  17  34  51  85 102 255]\n"
     ]
    },
    {
     "name": "stderr",
     "output_type": "stream",
     "text": [
      "C:\\Program Files\\ArcGIS\\Pro\\bin\\Python\\envs\\arcgispro-py3\\Lib\\site-packages\\sklearn\\metrics\\_classification.py:1318: UndefinedMetricWarning: Precision and F-score are ill-defined and being set to 0.0 in labels with no predicted samples. Use `zero_division` parameter to control this behavior.\n",
      "  _warn_prf(average, modifier, msg_start, len(result))\n",
      "C:\\Program Files\\ArcGIS\\Pro\\bin\\Python\\envs\\arcgispro-py3\\Lib\\site-packages\\sklearn\\metrics\\_classification.py:1318: UndefinedMetricWarning: Precision and F-score are ill-defined and being set to 0.0 in labels with no predicted samples. Use `zero_division` parameter to control this behavior.\n",
      "  _warn_prf(average, modifier, msg_start, len(result))\n",
      "C:\\Program Files\\ArcGIS\\Pro\\bin\\Python\\envs\\arcgispro-py3\\Lib\\site-packages\\sklearn\\metrics\\_classification.py:1318: UndefinedMetricWarning: Precision and F-score are ill-defined and being set to 0.0 in labels with no predicted samples. Use `zero_division` parameter to control this behavior.\n",
      "  _warn_prf(average, modifier, msg_start, len(result))\n"
     ]
    },
    {
     "name": "stdout",
     "output_type": "stream",
     "text": [
      "                 precision    recall  f1-score   support\n",
      "\n",
      "      apartment       0.47      0.17      0.25   1095697\n",
      "         church       0.00      0.00      0.00     15902\n",
      "          house       0.05      0.15      0.07    118750\n",
      "     industrial       0.00      0.00      0.00     43668\n",
      "office building       0.01      0.03      0.02    180637\n",
      "          other       0.00      0.00      0.00    115192\n",
      "         retail       0.09      0.05      0.07    382736\n",
      "     background       0.84      0.89      0.86   4601018\n",
      "\n",
      "       accuracy                           0.66   6553600\n",
      "      macro avg       0.18      0.16      0.16   6553600\n",
      "   weighted avg       0.68      0.66      0.66   6553600\n",
      "\n"
     ]
    }
   ],
   "source": [
    "from sklearn.metrics import classification_report\n",
    "\n",
    "class_names =['apartment','church', 'house','industrial','office building','other','retail','background']\n",
    "\n",
    "print(np.unique(gt_image_arrayy_gsv), np.unique(gsv_image_array_r_new))\n",
    "\n",
    "print(classification_report(np.ravel(gt_image_arrayy_gsv), np.ravel(gsv_image_array_r_new), target_names = class_names))"
   ]
  },
  {
   "cell_type": "markdown",
   "metadata": {},
   "source": [
    "# Calculate Accuracies for GSV (Fortworth)"
   ]
  },
  {
   "cell_type": "code",
   "execution_count": 210,
   "metadata": {},
   "outputs": [
    {
     "name": "stdout",
     "output_type": "stream",
     "text": [
      "[  0  17  34  51  85  95 102 255] [  0  17  34  51  85 102 255]\n"
     ]
    },
    {
     "name": "stderr",
     "output_type": "stream",
     "text": [
      "C:\\Program Files\\ArcGIS\\Pro\\bin\\Python\\envs\\arcgispro-py3\\Lib\\site-packages\\sklearn\\metrics\\_classification.py:1318: UndefinedMetricWarning: Precision and F-score are ill-defined and being set to 0.0 in labels with no predicted samples. Use `zero_division` parameter to control this behavior.\n",
      "  _warn_prf(average, modifier, msg_start, len(result))\n",
      "C:\\Program Files\\ArcGIS\\Pro\\bin\\Python\\envs\\arcgispro-py3\\Lib\\site-packages\\sklearn\\metrics\\_classification.py:1318: UndefinedMetricWarning: Precision and F-score are ill-defined and being set to 0.0 in labels with no predicted samples. Use `zero_division` parameter to control this behavior.\n",
      "  _warn_prf(average, modifier, msg_start, len(result))\n",
      "C:\\Program Files\\ArcGIS\\Pro\\bin\\Python\\envs\\arcgispro-py3\\Lib\\site-packages\\sklearn\\metrics\\_classification.py:1318: UndefinedMetricWarning: Precision and F-score are ill-defined and being set to 0.0 in labels with no predicted samples. Use `zero_division` parameter to control this behavior.\n",
      "  _warn_prf(average, modifier, msg_start, len(result))\n"
     ]
    },
    {
     "name": "stdout",
     "output_type": "stream",
     "text": [
      "                 precision    recall  f1-score   support\n",
      "\n",
      "      apartment       0.00      0.00      0.00    491512\n",
      "         church       0.01      0.02      0.01    166926\n",
      "          house       0.00      0.00      0.00      3596\n",
      "     industrial       0.00      0.00      0.00    444049\n",
      "office building       0.41      0.30      0.35   4421130\n",
      "          other       0.00      0.00      0.00    315595\n",
      "         retail       0.01      0.04      0.01    214216\n",
      "     background       0.88      0.87      0.88  20157376\n",
      "\n",
      "       accuracy                           0.72  26214400\n",
      "      macro avg       0.16      0.15      0.16  26214400\n",
      "   weighted avg       0.75      0.72      0.73  26214400\n",
      "\n"
     ]
    }
   ],
   "source": [
    "from sklearn.metrics import classification_report\n",
    "\n",
    "class_names =['apartment','church', 'house','industrial','office building','other','retail','background']\n",
    "\n",
    "print(np.unique(gt_image_arrayy_f_gsv), np.unique(gsv_image_array_r_f_new))\n",
    "\n",
    "print(classification_report(np.ravel(gt_image_arrayy_f_gsv), np.ravel(gsv_image_array_r_f_new), target_names = class_names))"
   ]
  },
  {
   "cell_type": "markdown",
   "metadata": {},
   "source": [
    "# Fusion of Orthophoto and LiDAR"
   ]
  },
  {
   "cell_type": "markdown",
   "metadata": {},
   "source": [
    "## Ranking Classes Based on F1 Score (Step 1)"
   ]
  },
  {
   "cell_type": "markdown",
   "metadata": {},
   "source": [
    "## Vancouver\n",
    "\n",
    "Class                        F1score\n",
    "\n",
    "1. Orthophoto Background      0.85\n",
    "\n",
    "2. Orthophoto Background      0.85\n",
    "\n",
    "3. Orthophoto Retail          0.23\n",
    "\n",
    "4. Orthophoto Residential     0.19\n",
    "\n",
    "5. LiDAR Other                0.11\n",
    "\n",
    "6. LiDAR Office Building      0.07\n",
    "\n",
    "7. Orthophoto Industrial      0.04\n",
    "\n",
    "8. Orthophoto Office Building 0.03\n",
    "\n",
    "9. Orthophoto Other           0.01\n",
    "\n",
    "10. Orthophoto Institutional  0\n",
    "\n",
    "11. LiDAR Institutional       0\n",
    "\n",
    "12. LiDAR Industrial          0\n",
    "\n",
    "13. LiDAR Retail              0\n",
    "\n",
    "14. LiDAR Residential         0\n",
    "\n",
    "\n",
    "## Fortworth\n",
    "\n",
    "Class                        F1score\n",
    "\n",
    "1. Orthophoto Background      0.87\n",
    "\n",
    "2. Orthophoto Background      0.87\n",
    "\n",
    "3. Orthophoto Office Building 0.21\n",
    "\n",
    "4. LiDAR Office Building      0.12\n",
    "\n",
    "5. LiDAR Industrial           0.07\n",
    "\n",
    "6. Orthophoto Retail          0.04\n",
    "\n",
    "7. Orthophoto Residential     0.02\n",
    "\n",
    "8. LiDAR Intitutional         0.01\n",
    "\n",
    "9. LiDAR Retail               0.01\n",
    "\n",
    "10. Orthophoto Other          0\n",
    "\n",
    "11. Orthophoto Industrial     0\n",
    "\n",
    "12. Orthophoto Institutional  0\n",
    "\n",
    "13. LiDAR Other               0\n",
    "\n",
    "14. LiDAR Residential         0\n"
   ]
  },
  {
   "cell_type": "markdown",
   "metadata": {},
   "source": [
    "## Vancouver"
   ]
  },
  {
   "cell_type": "markdown",
   "metadata": {},
   "source": [
    "# Find Corresponding Labels For Each Class"
   ]
  },
  {
   "cell_type": "code",
   "execution_count": 48,
   "metadata": {},
   "outputs": [],
   "source": [
    "def find_labels(array1, array2, labels):\n",
    "    \n",
    "    idx1= [np.where(array1 == l) for l in labels]\n",
    "    \n",
    "    idx2 =[np.where(array2 == l) for l in labels]\n",
    "    \n",
    "    return (idx1,idx2)\n",
    "\n",
    "idx1, idx2 = find_labels(ortho_image_array_r, lidar_image_array_r, [0,17,34,51,68,85,255])"
   ]
  },
  {
   "cell_type": "code",
   "execution_count": 49,
   "metadata": {},
   "outputs": [
    {
     "name": "stdout",
     "output_type": "stream",
     "text": [
      "[  0  17  34  51  68  85 255]\n"
     ]
    }
   ],
   "source": [
    "########\n",
    "\n",
    "f1score_fused_l_o = np.multiply(-1,np.ones((ortho_image_array_r.shape))).astype('int')\n",
    "\n",
    "#########\n",
    "\n",
    "f1score_fused_l_o [idx2[4]] = 68\n",
    "\n",
    "f1score_fused_l_o [idx2[5]] = 85\n",
    "\n",
    "f1score_fused_l_o [idx2[0]] = 0\n",
    "\n",
    "f1score_fused_l_o [idx2[1]] = 17\n",
    "\n",
    "f1score_fused_l_o [idx1[1]] = 17\n",
    "\n",
    "f1score_fused_l_o [idx1[3]] = 51\n",
    "\n",
    "f1score_fused_l_o [idx1[2]] = 34\n",
    "\n",
    "f1score_fused_l_o [idx1[0]] = 0\n",
    "\n",
    "f1score_fused_l_o [idx2[2]] = 34\n",
    "\n",
    "f1score_fused_l_o [idx2[3]] = 51\n",
    "\n",
    "f1score_fused_l_o [idx1[4]] = 68\n",
    "\n",
    "f1score_fused_l_o [idx1[5]] = 85\n",
    "\n",
    "f1score_fused_l_o [idx2[6]] = 255\n",
    "\n",
    "f1score_fused_l_o [idx1[6]] = 255\n",
    "\n",
    "print(np.unique(f1score_fused_l_o))"
   ]
  },
  {
   "cell_type": "markdown",
   "metadata": {},
   "source": [
    "### Show Results (Vancouver)"
   ]
  },
  {
   "cell_type": "code",
   "execution_count": 173,
   "metadata": {},
   "outputs": [],
   "source": [
    "import matplotlib.pyplot as plt\n",
    "\n",
    "plt.imshow(f1score_fused_l_o)\n",
    "\n",
    "plt.axis('off')\n",
    "\n",
    "plt.show()"
   ]
  },
  {
   "cell_type": "markdown",
   "metadata": {},
   "source": [
    "## Fortworth"
   ]
  },
  {
   "cell_type": "code",
   "execution_count": 51,
   "metadata": {},
   "outputs": [],
   "source": [
    "idx1_f, idx2_f = find_labels(ortho_image_array_f_r, lidar_image_array_f_r, [0,17,34,51,68,85,255])"
   ]
  },
  {
   "cell_type": "code",
   "execution_count": 52,
   "metadata": {},
   "outputs": [
    {
     "name": "stdout",
     "output_type": "stream",
     "text": [
      "[  0  17  34  51  68  85 255]\n"
     ]
    }
   ],
   "source": [
    "#######\n",
    "\n",
    "f1score_fused_l_o_f = np.multiply(-1,np.ones((ortho_image_array_f_r.shape))).astype('int')\n",
    "\n",
    "#########\n",
    "\n",
    "f1score_fused_l_o_f [idx2_f[4]] = 68\n",
    "\n",
    "f1score_fused_l_o_f [idx2_f[3]] = 51\n",
    "\n",
    "f1score_fused_l_o_f [idx1_f[1]] = 17\n",
    "\n",
    "f1score_fused_l_o_f [idx1_f[0]] = 0\n",
    "\n",
    "f1score_fused_l_o_f [idx1_f[3]] = 51\n",
    "\n",
    "f1score_fused_l_o_f [idx2_f[5]] = 85\n",
    "\n",
    "f1score_fused_l_o_f [idx2_f[1]] = 17\n",
    "\n",
    "f1score_fused_l_o_f [idx1_f[4]] = 68\n",
    "\n",
    "f1score_fused_l_o_f [idx1_f[5]] = 85\n",
    "\n",
    "f1score_fused_l_o_f [idx2_f[0]] = 0\n",
    "\n",
    "f1score_fused_l_o_f [idx2_f[2]] = 34\n",
    "\n",
    "f1score_fused_l_o_f [idx1_f[2]] = 34\n",
    "\n",
    "f1score_fused_l_o_f [idx2_f[6]] = 255\n",
    "\n",
    "f1score_fused_l_o_f [idx1_f[6]] = 255\n",
    "\n",
    "print(np.unique(f1score_fused_l_o_f))"
   ]
  },
  {
   "cell_type": "markdown",
   "metadata": {},
   "source": [
    "### Show Results (Fortworth)"
   ]
  },
  {
   "cell_type": "code",
   "execution_count": 113,
   "metadata": {},
   "outputs": [],
   "source": [
    "import matplotlib.pyplot as plt\n",
    "\n",
    "plt.imshow(f1score_fused_l_o_f)\n",
    "\n",
    "plt.axis('off')\n",
    "\n",
    "plt.show()"
   ]
  },
  {
   "cell_type": "markdown",
   "metadata": {},
   "source": [
    "## Orthophoto and LiDAR\n",
    "\n",
    "industrial 0; institutional 17; office building 34; other 51; residential 68; retail 85; background 255\n",
    "\n",
    "## GSV Relabeled \n",
    "\n",
    "apartment 0; church 17; house 34; industrial 51; office building 85; other 95; retail 102; background 255"
   ]
  },
  {
   "cell_type": "markdown",
   "metadata": {},
   "source": [
    "# Relabel LiDAR-Orthophoto Fused Map to GSV Predicted Map"
   ]
  },
  {
   "cell_type": "code",
   "execution_count": 53,
   "metadata": {},
   "outputs": [],
   "source": [
    "import numpy as np\n",
    "\n",
    "def make_lidar_ortho_fused_labels_same_as_gsv(fused_map):\n",
    "    \n",
    "    fused_map_c = np.copy(fused_map)\n",
    "\n",
    "    fused_map_c [fused_map == 51] = 95\n",
    "\n",
    "    fused_map_c [fused_map == 0] = 51\n",
    "\n",
    "    fused_map_c [fused_map == 85] = 102\n",
    "\n",
    "    fused_map_c [fused_map == 34] = 85\n",
    "    \n",
    "    return(fused_map_c)"
   ]
  },
  {
   "cell_type": "markdown",
   "metadata": {},
   "source": [
    "## Vancouver"
   ]
  },
  {
   "cell_type": "code",
   "execution_count": 54,
   "metadata": {},
   "outputs": [
    {
     "name": "stdout",
     "output_type": "stream",
     "text": [
      "[ 17  51  68  85  95 102 255]\n"
     ]
    }
   ],
   "source": [
    "f1score_fused_l_o_2 = make_lidar_ortho_fused_labels_same_as_gsv(f1score_fused_l_o)\n",
    "\n",
    "print(np.unique(f1score_fused_l_o_2))"
   ]
  },
  {
   "cell_type": "markdown",
   "metadata": {},
   "source": [
    "### Show Results"
   ]
  },
  {
   "cell_type": "code",
   "execution_count": 361,
   "metadata": {},
   "outputs": [],
   "source": [
    "import matplotlib.pyplot as plt\n",
    "\n",
    "plt.imshow(f1score_fused_l_o_2)\n",
    "\n",
    "plt.axis('off')\n",
    "\n",
    "plt.show()"
   ]
  },
  {
   "cell_type": "markdown",
   "metadata": {},
   "source": [
    "# Calculate Accuracies for Fusion of Orthophoto and LiDAR (Vancouver)"
   ]
  },
  {
   "cell_type": "code",
   "execution_count": 55,
   "metadata": {},
   "outputs": [
    {
     "name": "stdout",
     "output_type": "stream",
     "text": [
      "[ 17  51  68  85  95 102 255] [  0  17  34  51  85  95 102 255]\n",
      "[ 17  51  68  85  95 102 255] [ 17  51  68  85  95 102 255]\n",
      "                 precision    recall  f1-score   support\n",
      "\n",
      "         church       0.00      0.00      0.00     15902\n",
      "     industrial       0.00      0.00      0.00     43668\n",
      "    residnetial       0.45      0.12      0.19   1214447\n",
      "office building       0.04      0.15      0.06    180637\n",
      "          other       0.12      0.26      0.16    115192\n",
      "         retail       0.04      0.03      0.03    382736\n",
      "     background       0.81      0.88      0.85   4601018\n",
      "\n",
      "       accuracy                           0.65   6553600\n",
      "      macro avg       0.21      0.20      0.18   6553600\n",
      "   weighted avg       0.66      0.65      0.63   6553600\n",
      "\n"
     ]
    }
   ],
   "source": [
    "from sklearn.metrics import classification_report\n",
    "\n",
    "class_names =['church','industrial','residnetial','office building','other','retail','background']\n",
    "\n",
    "#new_labels = [-1]\n",
    "\n",
    "#########\n",
    "\n",
    "#idx_not_102 = np.where(f1score_fused_l_o != 102)\n",
    "\n",
    "#f1score_fused_l_o_3 = f1score_fused_l_o_2 [idx_not_102]\n",
    "\n",
    "#gt_image_arrayy_gsv_2 = gt_image_arrayy_gsv[idx_not_102]\n",
    "\n",
    "#idxx = np.where((f1score_fused_l_o_3 != 33) & (f1score_fused_l_o_3 != 35) & (f1score_fused_l_o_3 != 52) & (f1score_fused_l_o_3 != 119) & (f1score_fused_l_o_3 != 136))\n",
    "####################\n",
    "\n",
    "#idxx = np.where(f1score_fused_l_o_2 !=-1)\n",
    "\n",
    "#f1score_fused_l_o_3 = f1score_fused_l_o_2[idxx]\n",
    "\n",
    "#gt_image_arrayy_gsv_2 = gt_image_arrayy_gsv[idxx]\n",
    "\n",
    "print(np.unique(f1score_fused_l_o_2), np.unique(gt_image_arrayy_gsv))\n",
    "\n",
    "gt_image_arrayy_gsv [(gt_image_arrayy_gsv == 0) | (gt_image_arrayy_gsv == 34)] = 68\n",
    "\n",
    "print(np.unique(f1score_fused_l_o_2), np.unique(gt_image_arrayy_gsv))\n",
    "\n",
    "print(classification_report(np.ravel(gt_image_arrayy_gsv), np.ravel(f1score_fused_l_o_2), target_names = class_names))"
   ]
  },
  {
   "cell_type": "markdown",
   "metadata": {},
   "source": [
    "## Fortworth"
   ]
  },
  {
   "cell_type": "code",
   "execution_count": 56,
   "metadata": {},
   "outputs": [
    {
     "name": "stdout",
     "output_type": "stream",
     "text": [
      "[  0  17  34  51  68  85 255]\n",
      "[ 17  51  68  85  95 102 255]\n"
     ]
    }
   ],
   "source": [
    "f1score_fused_l_o_f_2 = make_lidar_ortho_fused_labels_same_as_gsv(f1score_fused_l_o_f)\n",
    "\n",
    "print(np.unique(f1score_fused_l_o_f))\n",
    "\n",
    "print(np.unique(f1score_fused_l_o_f_2))"
   ]
  },
  {
   "cell_type": "markdown",
   "metadata": {},
   "source": [
    "### Show Results"
   ]
  },
  {
   "cell_type": "code",
   "execution_count": 363,
   "metadata": {},
   "outputs": [],
   "source": [
    "import matplotlib.pyplot as plt\n",
    "\n",
    "plt.imshow(f1score_fused_l_o_f_2)\n",
    "\n",
    "plt.axis('off')\n",
    "\n",
    "plt.show()"
   ]
  },
  {
   "cell_type": "markdown",
   "metadata": {},
   "source": [
    "# Calculate Accuracies for Fusion of Orthophoto and LiDAR (Fortworth)"
   ]
  },
  {
   "cell_type": "code",
   "execution_count": 57,
   "metadata": {},
   "outputs": [
    {
     "name": "stdout",
     "output_type": "stream",
     "text": [
      "[ 17  51  68  85  95 102 255] [ 17  51  68  85  95 102 255]\n",
      "                 precision    recall  f1-score   support\n",
      "\n",
      "         church       0.00      0.03      0.01    166926\n",
      "     industrial       0.05      0.12      0.07    444049\n",
      "    residnetial       0.03      0.02      0.02    495108\n",
      "office building       0.50      0.16      0.24   4421130\n",
      "          other       0.00      0.00      0.00    315595\n",
      "         retail       0.01      0.05      0.01    214216\n",
      "     background       0.86      0.88      0.87  20157376\n",
      "\n",
      "       accuracy                           0.71  26214400\n",
      "      macro avg       0.21      0.18      0.18  26214400\n",
      "   weighted avg       0.75      0.71      0.71  26214400\n",
      "\n"
     ]
    }
   ],
   "source": [
    "from sklearn.metrics import classification_report\n",
    "\n",
    "class_names =['church','industrial','residnetial','office building','other','retail','background']\n",
    "\n",
    "####################\n",
    "\n",
    "#new_labels = [16, 18, 102]\n",
    "\n",
    "#idx_not_102_f = np.where(f1score_fused_l_o_f != 102)\n",
    "\n",
    "#f1score_fused_l_o_f_3 = f1score_fused_l_o_f_2 [idx_not_102_f]\n",
    "\n",
    "#gt_image_arrayy_f_gsv_2 = gt_image_arrayy_f_gsv[idx_not_102_f]\n",
    "\n",
    "#idxx_f = np.where((f1score_fused_l_o_f_3 != 16) & (f1score_fused_l_o_f_3 != 18))\n",
    "\n",
    "#f1score_fused_l_o_f_4 = f1score_fused_l_o_f_3[idxx_f]\n",
    "\n",
    "#gt_image_arrayy_f_gsv_3 = gt_image_arrayy_f_gsv_2[idxx_f]\n",
    "\n",
    "#print(np.unique(f1score_fused_l_o_f_4), np.unique(gt_image_arrayy_f_gsv_3))\n",
    "\n",
    "##########################\n",
    "\n",
    "gt_image_arrayy_f_gsv_2 = np.copy(gt_image_arrayy_f_gsv)\n",
    "\n",
    "gt_image_arrayy_f_gsv_2 [(gt_image_arrayy_f_gsv == 0) | (gt_image_arrayy_f_gsv == 34)] = 68\n",
    "\n",
    "print(np.unique(f1score_fused_l_o_f_2), np.unique(gt_image_arrayy_f_gsv_2))\n",
    "\n",
    "print(classification_report(np.ravel(gt_image_arrayy_f_gsv_2), np.ravel(f1score_fused_l_o_f_2), target_names = class_names))"
   ]
  },
  {
   "cell_type": "markdown",
   "metadata": {},
   "source": [
    "# Ranking Classes Based on F1-Score (Step 2)"
   ]
  },
  {
   "cell_type": "markdown",
   "metadata": {},
   "source": [
    "## Vancouver\n",
    "\n",
    "Class                        F1score\n",
    "\n",
    "1. GSV Background             0.86\n",
    "\n",
    "2. Fusion Background          0.85\n",
    "\n",
    "3. GSV apartment              0.25\n",
    "\n",
    "4. Fusion Residential         0.19\n",
    "\n",
    "5. Fusion Other               0.16\n",
    "\n",
    "6. GSV house                  0.07\n",
    "\n",
    "7. GSV Retail                 0.07\n",
    "\n",
    "8. Fusion Office Building     0.06\n",
    "\n",
    "9. Fusion Retail              0.03\n",
    "\n",
    "10. GSV Office Building       0.02\n",
    "\n",
    "11. GSV Church                0\n",
    "\n",
    "12. Fusion Church             0\n",
    "\n",
    "13. GSV Industrial            0\n",
    "\n",
    "14. Fusion Industrial         0\n",
    "\n",
    "\n",
    "## Fortworth\n",
    "\n",
    "Class                        F1score\n",
    "\n",
    "1. GSV Background             0.88\n",
    "\n",
    "2. Fusion Background          0.87\n",
    "\n",
    "3. GSV Office Building        0.35\n",
    "\n",
    "4. Fusion Office Building     0.24\n",
    "\n",
    "5. Fusion Industrial          0.07\n",
    "\n",
    "6. Fusion Residential         0.02\n",
    "\n",
    "7. Fusion Retail              0.01\n",
    "\n",
    "8. GSV Retail                 0.01\n",
    "\n",
    "9. Fusion Church              0.01\n",
    "\n",
    "10. GSV Church                0.01\n",
    "\n",
    "11. Fusion Other              0\n",
    "\n",
    "12. GSV House                 0\n",
    "\n",
    "13. GSV Industrial            0\n",
    "\n",
    "14. GSV Other                 0"
   ]
  },
  {
   "cell_type": "markdown",
   "metadata": {},
   "source": [
    "## Vancouver"
   ]
  },
  {
   "cell_type": "code",
   "execution_count": 58,
   "metadata": {},
   "outputs": [],
   "source": [
    "idx1_, _ = find_labels(gsv_image_array_r_new, f1score_fused_l_o_2, [0,17,34,51,85,102,255])\n",
    "\n",
    "_, idx2_ = find_labels(gsv_image_array_r_new, f1score_fused_l_o_2, [17,51,68,85,95,102,255])"
   ]
  },
  {
   "cell_type": "code",
   "execution_count": 59,
   "metadata": {},
   "outputs": [
    {
     "name": "stdout",
     "output_type": "stream",
     "text": [
      "[  0  34  68  85  95 102 255]\n"
     ]
    }
   ],
   "source": [
    "########\n",
    "\n",
    "f1score_fused_final = np.multiply(-1,np.ones((gsv_image_array_r_new.shape))).astype('int')\n",
    "\n",
    "#########\n",
    "\n",
    "f1score_fused_final [idx2_[1]] = 51\n",
    "\n",
    "f1score_fused_final [idx1_[3]] = 51\n",
    "\n",
    "f1score_fused_final [idx2_[0]] = 17\n",
    "\n",
    "f1score_fused_final [idx1_[1]] = 17\n",
    "\n",
    "f1score_fused_final [idx1_[4]] = 85\n",
    "\n",
    "f1score_fused_final [idx2_[5]] = 102\n",
    "\n",
    "f1score_fused_final [idx2_[3]] = 85\n",
    "\n",
    "f1score_fused_final [idx1_[5]] = 102\n",
    "\n",
    "f1score_fused_final [idx1_[2]] = 34\n",
    "\n",
    "f1score_fused_final [idx2_[4]] = 95\n",
    "\n",
    "f1score_fused_final [idx2_[2]] = 68\n",
    "\n",
    "f1score_fused_final [idx1_[0]] = 0\n",
    "\n",
    "f1score_fused_final [idx2_[6]] = 255\n",
    "\n",
    "f1score_fused_final [idx1_[6]] = 255\n",
    "\n",
    "print(np.unique(f1score_fused_final))"
   ]
  },
  {
   "cell_type": "markdown",
   "metadata": {},
   "source": [
    "## Fortworth"
   ]
  },
  {
   "cell_type": "code",
   "execution_count": 60,
   "metadata": {},
   "outputs": [],
   "source": [
    "idx1_f, _ = find_labels(gsv_image_array_r_f_new, f1score_fused_l_o_f_2, [0,17,34,51,85,102,255])\n",
    "\n",
    "_, idx2_f = find_labels(gsv_image_array_r_f_new, f1score_fused_l_o_f_2, [17,51,68,85,95,102,255])"
   ]
  },
  {
   "cell_type": "code",
   "execution_count": 61,
   "metadata": {},
   "outputs": [
    {
     "name": "stdout",
     "output_type": "stream",
     "text": [
      "[ 17  51  68  85 102 255]\n"
     ]
    }
   ],
   "source": [
    "########\n",
    "\n",
    "f1score_fused_final_f = np.multiply(-1,np.ones((gsv_image_array_r_f_new.shape))).astype('int')\n",
    "\n",
    "#########\n",
    "\n",
    "f1score_fused_final_f [idx1_f[3]] = 51\n",
    "\n",
    "f1score_fused_final_f [idx1_f[2]] = 34\n",
    "\n",
    "f1score_fused_final_f [idx2_f[4]] = 95\n",
    "\n",
    "f1score_fused_final_f [idx1_f[1]] = 17\n",
    "\n",
    "f1score_fused_final_f [idx2_f[0]] = 17\n",
    "\n",
    "f1score_fused_final_f [idx1_f[5]] = 102\n",
    "\n",
    "f1score_fused_final_f [idx2_f[5]] = 102\n",
    "\n",
    "f1score_fused_final_f [idx2_f[2]] = 68\n",
    "\n",
    "f1score_fused_final_f [idx2_f[1]] = 51\n",
    "\n",
    "f1score_fused_final_f [idx2_f[3]] = 85\n",
    "\n",
    "f1score_fused_final_f [idx1_f[4]] = 85\n",
    "\n",
    "f1score_fused_final_f [idx2_f[6]] = 255\n",
    "\n",
    "f1score_fused_final_f [idx1_f[6]] = 255\n",
    "\n",
    "\n",
    "print(np.unique(f1score_fused_final_f))"
   ]
  },
  {
   "cell_type": "markdown",
   "metadata": {},
   "source": [
    "# Calculate Accuracies For Final Fused Map (Vancouver)"
   ]
  },
  {
   "cell_type": "markdown",
   "metadata": {},
   "source": [
    "## Pixel-Based Accuracy Assessment"
   ]
  },
  {
   "cell_type": "code",
   "execution_count": 62,
   "metadata": {},
   "outputs": [
    {
     "name": "stdout",
     "output_type": "stream",
     "text": [
      "[ 17  51  68  85  95 102 255] [  0  34  68  85  95 102 255]\n"
     ]
    },
    {
     "name": "stderr",
     "output_type": "stream",
     "text": [
      "C:\\Program Files\\ArcGIS\\Pro\\bin\\Python\\envs\\arcgispro-py3\\Lib\\site-packages\\sklearn\\metrics\\_classification.py:1318: UndefinedMetricWarning: Precision and F-score are ill-defined and being set to 0.0 in labels with no predicted samples. Use `zero_division` parameter to control this behavior.\n",
      "  _warn_prf(average, modifier, msg_start, len(result))\n",
      "C:\\Program Files\\ArcGIS\\Pro\\bin\\Python\\envs\\arcgispro-py3\\Lib\\site-packages\\sklearn\\metrics\\_classification.py:1318: UndefinedMetricWarning: Recall and F-score are ill-defined and being set to 0.0 in labels with no true samples. Use `zero_division` parameter to control this behavior.\n",
      "  _warn_prf(average, modifier, msg_start, len(result))\n",
      "C:\\Program Files\\ArcGIS\\Pro\\bin\\Python\\envs\\arcgispro-py3\\Lib\\site-packages\\sklearn\\metrics\\_classification.py:1318: UndefinedMetricWarning: Precision and F-score are ill-defined and being set to 0.0 in labels with no predicted samples. Use `zero_division` parameter to control this behavior.\n",
      "  _warn_prf(average, modifier, msg_start, len(result))\n",
      "C:\\Program Files\\ArcGIS\\Pro\\bin\\Python\\envs\\arcgispro-py3\\Lib\\site-packages\\sklearn\\metrics\\_classification.py:1318: UndefinedMetricWarning: Recall and F-score are ill-defined and being set to 0.0 in labels with no true samples. Use `zero_division` parameter to control this behavior.\n",
      "  _warn_prf(average, modifier, msg_start, len(result))\n",
      "C:\\Program Files\\ArcGIS\\Pro\\bin\\Python\\envs\\arcgispro-py3\\Lib\\site-packages\\sklearn\\metrics\\_classification.py:1318: UndefinedMetricWarning: Precision and F-score are ill-defined and being set to 0.0 in labels with no predicted samples. Use `zero_division` parameter to control this behavior.\n",
      "  _warn_prf(average, modifier, msg_start, len(result))\n",
      "C:\\Program Files\\ArcGIS\\Pro\\bin\\Python\\envs\\arcgispro-py3\\Lib\\site-packages\\sklearn\\metrics\\_classification.py:1318: UndefinedMetricWarning: Recall and F-score are ill-defined and being set to 0.0 in labels with no true samples. Use `zero_division` parameter to control this behavior.\n",
      "  _warn_prf(average, modifier, msg_start, len(result))\n"
     ]
    },
    {
     "name": "stdout",
     "output_type": "stream",
     "text": [
      "                 precision    recall  f1-score   support\n",
      "\n",
      "      apartment       0.00      0.00      0.00         0\n",
      "         church       0.00      0.00      0.00     15902\n",
      "          house       0.00      0.00      0.00         0\n",
      "     industrial       0.00      0.00      0.00     43668\n",
      "    residential       0.41      0.09      0.15   1214447\n",
      "office building       0.00      0.00      0.00    180637\n",
      "          other       0.13      0.26      0.17    115192\n",
      "         retail       0.00      0.00      0.00    382736\n",
      "     background       0.81      0.91      0.86   4601018\n",
      "\n",
      "       accuracy                           0.66   6553600\n",
      "      macro avg       0.15      0.14      0.13   6553600\n",
      "   weighted avg       0.65      0.66      0.63   6553600\n",
      "\n"
     ]
    }
   ],
   "source": [
    "import numpy as np\n",
    "\n",
    "from sklearn.metrics import classification_report\n",
    "\n",
    "class_names =['apartment','church','house','industrial','residential','office building','other','retail','background']\n",
    "\n",
    "#new_labels = [-1]\n",
    "\n",
    "#############\n",
    "\n",
    "#idxx = np.where((f1score_fused_final != 35) & (f1score_fused_final != 50) & (f1score_fused_final != 52) & (f1score_fused_final != 68) & (f1score_fused_final != 69)\n",
    "         \n",
    "         #& (f1score_fused_final != 94) & (f1score_fused_final != 101) & (f1score_fused_final != 102) & (f1score_fused_final != 112) &\n",
    "         \n",
    "         #(f1score_fused_final != 118) & (f1score_fused_final != 119) & (f1score_fused_final != 120) & (f1score_fused_final != 129) & \n",
    "         \n",
    "         #(f1score_fused_final != 135) & (f1score_fused_final != 136) & (f1score_fused_final != 153) & (f1score_fused_final != 170) &\n",
    "         \n",
    "         #(f1score_fused_final != 180) & (f1score_fused_final != 187) & (f1score_fused_final != 204))\n",
    "        \n",
    "################     \n",
    "\n",
    "#idxx = np.where(f1score_fused_final != -1)        \n",
    "\n",
    "#f1score_fused_final_2 = f1score_fused_final[idxx]\n",
    "\n",
    "#gt_image_arrayy_gsv_2 = gt_image_arrayy_gsv[idxx]\n",
    "\n",
    "print(np.unique(gt_image_arrayy_gsv), np.unique(f1score_fused_final))\n",
    "\n",
    "print(classification_report(np.ravel(gt_image_arrayy_gsv), np.ravel(f1score_fused_final), target_names = class_names))"
   ]
  },
  {
   "cell_type": "markdown",
   "metadata": {},
   "source": [
    "## Object-Based Accuracy Assessment"
   ]
  },
  {
   "cell_type": "code",
   "execution_count": 63,
   "metadata": {},
   "outputs": [
    {
     "name": "stderr",
     "output_type": "stream",
     "text": [
      "C:\\Program Files\\ArcGIS\\Pro\\bin\\Python\\envs\\arcgispro-py3\\Lib\\site-packages\\sklearn\\metrics\\_classification.py:1318: UndefinedMetricWarning: Precision and F-score are ill-defined and being set to 0.0 in labels with no predicted samples. Use `zero_division` parameter to control this behavior.\n",
      "  _warn_prf(average, modifier, msg_start, len(result))\n",
      "C:\\Program Files\\ArcGIS\\Pro\\bin\\Python\\envs\\arcgispro-py3\\Lib\\site-packages\\sklearn\\metrics\\_classification.py:1318: UndefinedMetricWarning: Recall and F-score are ill-defined and being set to 0.0 in labels with no true samples. Use `zero_division` parameter to control this behavior.\n",
      "  _warn_prf(average, modifier, msg_start, len(result))\n",
      "C:\\Program Files\\ArcGIS\\Pro\\bin\\Python\\envs\\arcgispro-py3\\Lib\\site-packages\\sklearn\\metrics\\_classification.py:1318: UndefinedMetricWarning: Precision and F-score are ill-defined and being set to 0.0 in labels with no predicted samples. Use `zero_division` parameter to control this behavior.\n",
      "  _warn_prf(average, modifier, msg_start, len(result))\n",
      "C:\\Program Files\\ArcGIS\\Pro\\bin\\Python\\envs\\arcgispro-py3\\Lib\\site-packages\\sklearn\\metrics\\_classification.py:1318: UndefinedMetricWarning: Recall and F-score are ill-defined and being set to 0.0 in labels with no true samples. Use `zero_division` parameter to control this behavior.\n",
      "  _warn_prf(average, modifier, msg_start, len(result))\n",
      "C:\\Program Files\\ArcGIS\\Pro\\bin\\Python\\envs\\arcgispro-py3\\Lib\\site-packages\\sklearn\\metrics\\_classification.py:1318: UndefinedMetricWarning: Precision and F-score are ill-defined and being set to 0.0 in labels with no predicted samples. Use `zero_division` parameter to control this behavior.\n",
      "  _warn_prf(average, modifier, msg_start, len(result))\n",
      "C:\\Program Files\\ArcGIS\\Pro\\bin\\Python\\envs\\arcgispro-py3\\Lib\\site-packages\\sklearn\\metrics\\_classification.py:1318: UndefinedMetricWarning: Recall and F-score are ill-defined and being set to 0.0 in labels with no true samples. Use `zero_division` parameter to control this behavior.\n",
      "  _warn_prf(average, modifier, msg_start, len(result))\n"
     ]
    },
    {
     "name": "stdout",
     "output_type": "stream",
     "text": [
      "                 precision    recall  f1-score   support\n",
      "\n",
      "      apartment       0.72      0.39      0.50       109\n",
      "         church       0.00      0.00      0.00        13\n",
      "          house       0.27      0.20      0.23        30\n",
      "     industrial       0.00      0.00      0.00         3\n",
      "office building       0.00      0.00      0.00         0\n",
      "          other       0.00      0.00      0.00         5\n",
      "         retail       0.00      0.00      0.00         7\n",
      "     background       0.27      1.00      0.42        19\n",
      "\n",
      "       accuracy                           0.36       186\n",
      "      macro avg       0.16      0.20      0.14       186\n",
      "   weighted avg       0.50      0.36      0.38       186\n",
      "\n"
     ]
    }
   ],
   "source": [
    "from PIL import Image\n",
    "\n",
    "import numpy as np\n",
    "\n",
    "import pandas as pd\n",
    "\n",
    "from sklearn.metrics import classification_report\n",
    "\n",
    "def make_labels_same_as_gt(array):\n",
    "    \n",
    "    array [array == 17] = 1\n",
    "    \n",
    "    array [array == 34] = 2\n",
    "    \n",
    "    array [array == 51] = 3\n",
    "    \n",
    "    array [array == 68] = 0\n",
    "    \n",
    "    array [array == 85] = 4\n",
    "    \n",
    "    array [array == 95] = 5\n",
    "    \n",
    "    array [array == 102] = 6\n",
    "    \n",
    "    array [array == 255] = 7\n",
    "    \n",
    "    return(array)\n",
    "\n",
    "######################################## Labels Guide #####################################################\n",
    "\n",
    "# 17 >> church, 34 >> house, 51 >> industrial, 68 >> residential, 85 >> office building, 102 >> retail, 255 >> background\n",
    "\n",
    "# 0 >> apartment, 1 >> church, 2 >> house, 3 >> industrial, 4 >> office building, 5 >> other, 6 >> retail, 7 >> background\n",
    "\n",
    "###########################################################################################################\n",
    "\n",
    "class_names = ['apartment','church','house','industrial','office building','other','retail','background']\n",
    "\n",
    "df = pd.read_csv('D:/Nafiseh/building_type/vancouver_f1_score_fused_zst_majority_2_spj.csv')\n",
    "\n",
    "gt = np.array(df['GT_gsv'])\n",
    "\n",
    "predictions = make_labels_same_as_gt(np.array(df['gridcode']))\n",
    "\n",
    "print(classification_report(gt, predictions, target_names = class_names))"
   ]
  },
  {
   "cell_type": "markdown",
   "metadata": {},
   "source": [
    "### Confusion Matrix"
   ]
  },
  {
   "cell_type": "markdown",
   "metadata": {},
   "source": [
    "#### F1 Score Fusion"
   ]
  },
  {
   "cell_type": "code",
   "execution_count": 18,
   "metadata": {},
   "outputs": [],
   "source": [
    "from sklearn.metrics import confusion_matrix, ConfusionMatrixDisplay\n",
    "\n",
    "import pandas as pd\n",
    "\n",
    "\n",
    "def make_labels_same_as_gt(array):\n",
    "    \n",
    "    array [array == 17] = 179\n",
    "    \n",
    "    array [array == 34] = 150\n",
    "    \n",
    "    array [array == 51] = 142\n",
    "    \n",
    "    array [array == 68] = 29\n",
    "    \n",
    "    array [array == 85] = 38\n",
    "    \n",
    "    array [array == 95] = 90\n",
    "    \n",
    "    array [array == 102] = 105\n",
    "    \n",
    "    array [array == 255] = 0\n",
    "    \n",
    "    return(array)\n",
    "\n",
    "######################################## Labels Guide #####################################################\n",
    "\n",
    "# 17 >> church, 34 >> house, 51 >> industrial, 68 >> residential, 85 >> office building, 102 >> retail, 255 >> background\n",
    "\n",
    "# 0 >> background, 29 >> apartment, 38 >> office building, 90 >> garage, 105 >> retail, 142 >> industrial, 150 >> house, 179 >> church\n",
    "\n",
    "###########################################################################################################\n",
    "\n",
    "class_names = ['background','apartment','office building','other','retail','industrial','house','church']\n",
    "\n",
    "df = pd.read_csv('D:/Nafiseh/building_type/vancouver_f1_score_fused_spj_new.csv')\n",
    "\n",
    "gt = np.array(df['GT'])\n",
    "\n",
    "predictions = make_labels_same_as_gt(np.array(df['gridcode']))\n",
    "\n",
    "plt.rcParams['font.size'] = 10\n",
    "\n",
    "disp = ConfusionMatrixDisplay(confusion_matrix(gt,predictions), display_labels = class_names)\n",
    "\n",
    "disp.plot()\n",
    "\n",
    "#plt.savefig('D:/Nafiseh/building_type/confusion_matrix_f1_score_fusion_vancouver.tif')\n",
    "\n",
    "plt.show()"
   ]
  },
  {
   "cell_type": "markdown",
   "metadata": {},
   "source": [
    "#### Fuzzy Fusion"
   ]
  },
  {
   "cell_type": "code",
   "execution_count": 149,
   "metadata": {},
   "outputs": [],
   "source": [
    "from sklearn.metrics import confusion_matrix, ConfusionMatrixDisplay\n",
    "\n",
    "import pandas as pd\n",
    "\n",
    "\n",
    "def make_labels_same_as_gt(array):\n",
    "    \n",
    "    array [array == 4] = 29\n",
    "    \n",
    "    array [array == 5] = 105\n",
    "    \n",
    "    return(array)\n",
    "\n",
    "######################################## Labels Guide #####################################################\n",
    "\n",
    "# 17 >> church, 34 >> house, 51 >> industrial, 68 >> residential, 85 >> office building, 102 >> retail, 255 >> background\n",
    "\n",
    "# 0 >> background, 29 >> apartment, 38 >> office building, 90 >> garage, 105 >> retail, 142 >> industrial, 150 >> house, 179 >> church\n",
    "\n",
    "###########################################################################################################\n",
    "\n",
    "class_names = ['background','apartment','office building','other','retail','industrial','house','church']\n",
    "\n",
    "df = pd.read_csv('D:/Nafiseh/building_type/vancouver_f1_score_fused_spj_new.csv')\n",
    "\n",
    "gt = np.array(df['GT'])\n",
    "\n",
    "predictions = make_labels_same_as_gt(np.array(df['Fuzzy_Fusion']))\n",
    "\n",
    "plt.rcParams['font.size'] = 10\n",
    "\n",
    "plt.rcParams['figure.figsize'] = (200, 100)\n",
    "\n",
    "disp = ConfusionMatrixDisplay(confusion_matrix(gt,predictions), display_labels = class_names)\n",
    "\n",
    "disp.plot()\n",
    "\n",
    "#plt.savefig('D:/Nafiseh/building_type/confusion_matrix_f1_score_fusion_vancouver.tif')\n",
    "\n",
    "plt.show()"
   ]
  },
  {
   "cell_type": "markdown",
   "metadata": {},
   "source": [
    "# Visualize and Save Results (Vancouver)"
   ]
  },
  {
   "cell_type": "code",
   "execution_count": 280,
   "metadata": {},
   "outputs": [],
   "source": [
    "def visualize_and_save_figure(fusion_array, path):\n",
    "    \n",
    "    blue_patch = mpatches.Patch(color = 'blue', label='apartment')\n",
    "\n",
    "    cyan_patch = mpatches.Patch(color = 'cyan', label='church')\n",
    "    \n",
    "    green_patch = mpatches.Patch(color = 'green', label = 'house')\n",
    "    \n",
    "    orange_patch = mpatches.Patch(color = 'orange', label = 'industrial')\n",
    "    \n",
    "    #cyan_patch = mpatches.Patch(color = 'cyan',label = 'institutional')\n",
    "    \n",
    "    #olive_patch = mpatches.Patch(color = 'olive', label = 'residential')\n",
    "    \n",
    "    darkred_patch = mpatches.Patch(color = 'darkred', label = 'office building')\n",
    "\n",
    "    #red_patch = mpatches.Patch(color = 'red', label = 'other')\n",
    "    \n",
    "    #olive_patch = mpatches.Patch(color = 'olive', label = 'residential')\n",
    "\n",
    "    magenta_patch = mpatches.Patch(color = 'magenta', label = 'retail')\n",
    "\n",
    "    yellow_patch = mpatches.Patch(color = 'yellow', label = 'background')\n",
    "\n",
    "    colors = ['blue','cyan','green','orange','darkred','magenta', 'yellow']\n",
    "    \n",
    "    u = np.unique(fusion_array)\n",
    "    \n",
    "    #color_bins_ortho = [-1, 16, 33, 50, 67, 84, 254, 256]  \n",
    "    \n",
    "    #color_bins_lidar = [-1, 16, 33, 50, 84, 254, 256]\n",
    "    \n",
    "    #color_bins_gsv = [-1, 16, 33, 50, 84, 101, 254, 256]\n",
    "    \n",
    "    #color_bins_f_1 = [-1, 16, 33, 50, 67, 84, 254, 256]\n",
    "    \n",
    "    #color_bins_f_1_final = [16, 50, 67, 84, 94, 101, 254, 256]\n",
    "       \n",
    "    #color_bins = [-1,33,67,84,94,101,254,256]\n",
    "    \n",
    "    #color_bins_gsv = [-1,  16,  33,  50,  84, 101, 254, 256]\n",
    "    \n",
    "    #color_bins_f = [16, 50, 67, 84, 101, 254, 256]\n",
    " \n",
    "    color_bins_gsv_f = [-1,  16,  33,  50,  84, 101, 254, 256]\n",
    "    \n",
    "    #color_bins_f_gt = [  -1,  16,  33,  50,  84,  94, 101, 254, 256]\n",
    "    \n",
    "    #print(color_bins)\n",
    "    \n",
    "    #extent = [-123.136140, -123.129303, 49.280349, 49.284829]  # vancouver\n",
    "    \n",
    "    extent_f = [-97.340242, -97.326509, 32.746281, 32.757833]  # fortworth\n",
    "\n",
    "    cmap_listed = ListedColormap(colors)\n",
    "    \n",
    "    ax = plt.gca()\n",
    "\n",
    "    ax.get_xaxis().get_major_formatter().set_useOffset(False)\n",
    "    \n",
    "    ax.get_yaxis().get_major_formatter().set_useOffset(False)\n",
    "    \n",
    "    ax.tick_params(labeltop = True, labelright = True)\n",
    "    \n",
    "    plt.rcParams['font.family'] = 'Times New Roman'\n",
    "    \n",
    "    plt.rcParams['font.size'] = 80\n",
    "    \n",
    "    plt.rcParams['figure.figsize'] = [160, 80]\n",
    "\n",
    "    plt.imshow(fusion_array, cmap = cmap_listed, norm = BoundaryNorm(color_bins_gsv_f, len(color_bins_gsv_f)), extent = extent_f)\n",
    "    \n",
    "    plt.xlabel('Longitude (deg)', font = 'Times New Roman', fontsize = 100, fontweight = 'bold')\n",
    "    \n",
    "    plt.ylabel('Latitude (deg)', font = 'Times New Roman', fontsize = 100, fontweight = 'bold')\n",
    "\n",
    "    plt.legend(handles = [blue_patch, cyan_patch, green_patch, orange_patch, darkred_patch, magenta_patch, yellow_patch], loc = 'lower center',bbox_to_anchor = (-0.1,-0.15))\n",
    "\n",
    "    #plt.xticks(np.arange(-123.136140, -123.129303, 0.003))  # vancouver\n",
    "    \n",
    "    plt.xticks(np.arange(-97.340242, -97.326509, 0.005))\n",
    "    \n",
    "    #plt.yticks(np.arange(49.280349, 49.284829, 0.002))  # vancouver\n",
    "    \n",
    "    plt.yticks(np.arange(32.746281,32.757833,0.005))\n",
    "    \n",
    "    plt.axis('on')\n",
    "\n",
    "    plt.savefig(path)\n",
    "\n",
    "    plt.show()"
   ]
  },
  {
   "cell_type": "markdown",
   "metadata": {},
   "source": [
    "# Create Subplots (Vancouver)"
   ]
  },
  {
   "cell_type": "code",
   "execution_count": 65,
   "metadata": {},
   "outputs": [],
   "source": [
    "from PIL import Image\n",
    "\n",
    "import matplotlib.pyplot as plt\n",
    "\n",
    "import matplotlib.patches as mpatches\n",
    "\n",
    "from matplotlib.colors import ListedColormap\n",
    "\n",
    "from matplotlib.colors import BoundaryNorm\n",
    "\n",
    "    \n",
    "blue_patch = mpatches.Patch(color = 'blue', label='apartment')\n",
    "\n",
    "cyan_patch = mpatches.Patch(color = 'cyan', label='church')\n",
    "\n",
    "green_patch = mpatches.Patch(color = 'green', label = 'house')\n",
    "\n",
    "orange_patch = mpatches.Patch(color = 'orange', label = 'industrial')\n",
    "\n",
    "olive_patch = mpatches.Patch(color = 'olive', label = 'residential')\n",
    "\n",
    "darkred_patch = mpatches.Patch(color = 'darkred', label = 'office building')\n",
    "\n",
    "red_patch = mpatches.Patch(color = 'red', label = 'other')\n",
    "\n",
    "magenta_patch = mpatches.Patch(color = 'magenta', label = 'retail')\n",
    "\n",
    "yellow_patch = mpatches.Patch(color = 'yellow', label = 'background')\n",
    "\n",
    "fig, axes = plt.subplots(2,2)\n",
    "\n",
    "plt.rcParams['font.family'] = 'Times New Roman'\n",
    "\n",
    "plt.rcParams['font.size'] = 300\n",
    "\n",
    "plt.rcParams['figure.figsize'] = (300, 150)\n",
    "\n",
    "extent = [-123.136140, -123.129303, 49.280349, 49.284829]\n",
    "\n",
    "################# subplot 1 ########################\n",
    "\n",
    "colors_gt = ['blue','cyan','green','orange','darkred','red','magenta', 'yellow']\n",
    "\n",
    "cmap_listed_gt = ListedColormap(colors_gt)\n",
    "\n",
    "u1 = list(np.unique(gt_image_arrayy_gsv)-np.array([1])) + [256]\n",
    "\n",
    "axes[0,0].imshow(gt_image_arrayy_gsv, cmap = cmap_listed_gt, extent = extent, norm = BoundaryNorm(u1, len(u1)))\n",
    "\n",
    "#axes[0,0].legend(handles = [blue_patch, cyan_patch,green_patch, orange_patch, darkred_patch, red_patch, magenta_patch, yellow_patch],\n",
    "                #loc = 'lower left', prop = {'size': 60}, bbox_to_anchor = (-0.2,-0.15))\n",
    "\n",
    "axes[0,0].get_xaxis().get_major_formatter().set_useOffset(False)\n",
    "\n",
    "axes[0,0].get_yaxis().get_major_formatter().set_useOffset(False)\n",
    "\n",
    "axes[0,0].tick_params(labeltop = True, labelbottom = False, labelright = False)\n",
    "\n",
    "axes[0,0].set_xlabel('(a)',fontsize = 250, fontweight = 'bold')\n",
    "\n",
    "axes[0,0].set_ylabel('Latitude', fontsize = 250, fontweight = 'bold')\n",
    "\n",
    "axes[0,0].set_xticks(np.round(np.arange(-123.136140, -123.129303, 0.003),3), fontsize = 250)\n",
    "\n",
    "axes[0,0].set_yticks(np.round(np.arange(49.280349, 49.284829, 0.002),3), fontsize = 250)\n",
    "\n",
    "################### subplot 2 #######################\n",
    "\n",
    "colors_gsv = ['blue','cyan','green','orange','darkred','magenta','yellow']\n",
    "\n",
    "cmap_listed_gsv = ListedColormap(colors_gsv)\n",
    "\n",
    "u2 = list(np.unique(gsv_image_array_r_new)-np.array([1])) + [256]\n",
    "\n",
    "axes[0,1].imshow(gsv_image_array_r_new, cmap = cmap_listed_gsv, extent = extent, norm = BoundaryNorm(u2, len(u2)))\n",
    "\n",
    "#axes[0,1].legend(handles = [blue_patch, cyan_patch,green_patch, orange_patch, darkred_patch, red_patch, magenta_patch, yellow_patch],\n",
    "                #loc = 'lower left', prop={'size':60}, bbox_to_anchor = (-0.1,-0.15))\n",
    "\n",
    "axes[0,1].get_xaxis().get_major_formatter().set_useOffset(False)\n",
    "\n",
    "axes[0,1].get_yaxis().get_major_formatter().set_useOffset(False)\n",
    "\n",
    "axes[0,1].tick_params(labeltop = True, labelbottom = False, labelright = True, labelleft=False)\n",
    "\n",
    "axes[0,1].set_xlabel('(b)',fontsize = 250, fontweight = 'bold')\n",
    "\n",
    "#axes[0,1].set_ylabel('Latitude', fontsize = 20, fontweight = 'bold')\n",
    "\n",
    "axes[0,1].set_xticks(np.round(np.arange(-123.136140, -123.129303, 0.003),3), fontsize = 250)\n",
    "\n",
    "axes[0,1].set_yticks(np.round(np.arange(49.280349, 49.284829, 0.002),3), fontsize = 250)\n",
    "\n",
    "#################### subplot 3 ###########################\n",
    "\n",
    "colors_f1_score = ['blue','green','olive','darkred','red','magenta', 'yellow']\n",
    "\n",
    "cmap_listed_f1_score = ListedColormap(colors_f1_score)\n",
    "\n",
    "u3 = list(np.unique(f1score_fused_final)-np.array([1])) + [256]\n",
    "\n",
    "axes[1,0].imshow(f1score_fused_final, cmap = cmap_listed_f1_score, extent = extent, norm = BoundaryNorm(u3,len(u3)))\n",
    "\n",
    "#axes[1,0].legend(handles = [cyan_patch, orange_patch, olive_patch, darkred_patch, magenta_patch, yellow_patch], loc ='lower left',\n",
    "                #prop ={'size': 60}, bbox_to_anchor = (-0.1,-0.15))\n",
    "\n",
    "axes[1,0].legend(handles=[blue_patch, cyan_patch,green_patch, orange_patch, olive_patch, darkred_patch, red_patch, magenta_patch, yellow_patch], loc = 'lower left', prop = {'size': 350},\n",
    "                bbox_to_anchor = (-1.1,-0.15))     \n",
    "\n",
    "axes[1,0].get_xaxis().get_major_formatter().set_useOffset(False)\n",
    "\n",
    "axes[1,0].get_yaxis().get_major_formatter().set_useOffset(False)\n",
    "\n",
    "axes[1,0].tick_params(labeltop = False, labelright = False, pad = 80)\n",
    "\n",
    "axes[1,0].set_xlabel('Longitude \\n \\n (c)',fontsize = 250, fontweight = 'bold')\n",
    "\n",
    "axes[1,0].set_ylabel('Latitude', fontsize = 250, fontweight = 'bold')\n",
    "\n",
    "axes[1,0].set_xticks(np.round(np.arange(-123.136140, -123.129303, 0.003),3), fontsize = 250)\n",
    "\n",
    "axes[1,0].set_yticks(np.round(np.arange(49.280349, 49.284829, 0.002),3), fontsize = 250)\n",
    "\n",
    "################### subplot 4 ##############################\n",
    "\n",
    "colors_fuzzy = ['olive','darkred','yellow']\n",
    "\n",
    "cmap_listed_fuzzy = ListedColormap(colors_fuzzy)\n",
    "\n",
    "gompertz_vancouver = np.array(Image.open('D:/Nafiseh/building_type/vancouver_gompertz_fuse.tif'))\n",
    "\n",
    "u4 = list(np.unique(gompertz_vancouver)-np.array([1])) + [256]\n",
    "\n",
    "axes[1,1].imshow(gompertz_vancouver, cmap = cmap_listed_fuzzy, extent = extent, norm = BoundaryNorm(u4, len(u4)))\n",
    "\n",
    "#axes[1,1].legend(handles=[green_patch,orange_patch,olive_patch,magenta_patch,yellow_patch], loc = 'lower left', prop = {'size': 60},\n",
    "                #bbox_to_anchor = (-0.1,-0.15))\n",
    "\n",
    "axes[1,1].get_xaxis().get_major_formatter().set_useOffset(False)\n",
    "\n",
    "axes[1,1].get_yaxis().get_major_formatter().set_useOffset(False)\n",
    "\n",
    "axes[1,1].tick_params(labeltop = False, labelright = True, labelleft=False, pad = 30)\n",
    "\n",
    "axes[1,1].set_xlabel('Longitude \\n \\n (d)',fontsize = 250, fontweight = 'bold')\n",
    "\n",
    "#axes[1,1].set_ylabel('Latitude', fontsize = 20, fontweight = 'bold')\n",
    "\n",
    "axes[1,1].set_xticks(np.round(np.arange(-123.136140, -123.129303, 0.003),3), fontsize = 250)\n",
    "\n",
    "axes[1,1].set_yticks(np.round(np.arange(49.280349, 49.284829, 0.002),3), fontsize = 250)\n",
    "\n",
    "plt.tight_layout()\n",
    "\n",
    "plt.savefig('D:/Nafiseh/building_type/Building_Type_Manuscript/Figures/vancouver_subplots_3.tif',bbox_inches='tight')\n",
    "\n",
    "plt.show()"
   ]
  },
  {
   "cell_type": "code",
   "execution_count": 33,
   "metadata": {},
   "outputs": [
    {
     "name": "stdout",
     "output_type": "stream",
     "text": [
      "[67, 84, 254, 256]\n"
     ]
    }
   ],
   "source": [
    "gompertz_vancouver = np.array(Image.open('D:/Nafiseh/building_type/vancouver_gompertz_fuse.tif'))\n",
    "\n",
    "u4 = list(np.unique(gompertz_vancouver)-np.array([1])) + [256]\n",
    "\n",
    "print(u4)"
   ]
  },
  {
   "cell_type": "markdown",
   "metadata": {},
   "source": [
    "## Visualize Orthophoto Classification Map"
   ]
  },
  {
   "cell_type": "code",
   "execution_count": 31,
   "metadata": {},
   "outputs": [],
   "source": [
    "import matplotlib.pyplot as plt\n",
    "\n",
    "import matplotlib.patches as mpatches\n",
    "\n",
    "from matplotlib.colors import ListedColormap\n",
    "\n",
    "from matplotlib.colors import BoundaryNorm\n",
    "\n",
    "Image.fromarray(ortho_image_array_r).save('D:/Nafiseh/building_type/vancouver_ortho_classification_image.png')\n",
    "\n",
    "np.save('D:/Nafiseh/building_type/vancouver_ortho_classification.npy', ortho_image_array_r)\n",
    "\n",
    "file_path_vancouver_ortho = 'D:/Nafiseh/building_type/vancouver_ortho_classification.png'\n",
    "\n",
    "visualize_and_save_figure(ortho_image_array_r, file_path_vancouver_ortho)"
   ]
  },
  {
   "cell_type": "markdown",
   "metadata": {},
   "source": [
    "## Visualize LiDAR Classification Map"
   ]
  },
  {
   "cell_type": "code",
   "execution_count": 36,
   "metadata": {},
   "outputs": [],
   "source": [
    "import matplotlib.pyplot as plt\n",
    "\n",
    "import matplotlib.patches as mpatches\n",
    "\n",
    "from matplotlib.colors import ListedColormap\n",
    "\n",
    "from matplotlib.colors import BoundaryNorm\n",
    "\n",
    "#print(np.unique(lidar_image_array_r))\n",
    "\n",
    "Image.fromarray(lidar_image_array_r).save('D:/Nafiseh/building_type/vancouver_lidar_classification_image.png')\n",
    "\n",
    "np.save('D:/Nafiseh/building_type/vancouver_lidar_classification.npy', lidar_image_array_r)\n",
    "\n",
    "file_path_vancouver_lidar = 'D:/Nafiseh/building_type/vancouver_lidar_classification.png'\n",
    "\n",
    "visualize_and_save_figure(lidar_image_array_r, file_path_vancouver_lidar)"
   ]
  },
  {
   "cell_type": "markdown",
   "metadata": {},
   "source": [
    "## Visualize GSV Classification Map"
   ]
  },
  {
   "cell_type": "code",
   "execution_count": 224,
   "metadata": {},
   "outputs": [],
   "source": [
    "import matplotlib.pyplot as plt\n",
    "\n",
    "import matplotlib.patches as mpatches\n",
    "\n",
    "from matplotlib.colors import ListedColormap\n",
    "\n",
    "from matplotlib.colors import BoundaryNorm\n",
    "\n",
    "#print(np.unique(gsv_image_array_r_new))\n",
    "\n",
    "Image.fromarray(gsv_image_array_r_new).save('D:/Nafiseh/building_type/vancouver_gsv_classification_image.png')\n",
    "\n",
    "np.save('D:/Nafiseh/building_type/vancouver_gsv_classification.npy', gsv_image_array_r)\n",
    "\n",
    "file_path_vancouver_gsv = 'D:/Nafiseh/building_type/vancouver_gsv_classification_2.png'\n",
    "\n",
    "visualize_and_save_figure(gsv_image_array_r_new, file_path_vancouver_gsv)"
   ]
  },
  {
   "cell_type": "markdown",
   "metadata": {},
   "source": [
    "## Visualize Fused Classification Map (Step 1)"
   ]
  },
  {
   "cell_type": "code",
   "execution_count": 51,
   "metadata": {},
   "outputs": [],
   "source": [
    "import matplotlib.pyplot as plt\n",
    "\n",
    "import matplotlib.patches as mpatches\n",
    "\n",
    "from matplotlib.colors import ListedColormap\n",
    "\n",
    "from matplotlib.colors import BoundaryNorm\n",
    "\n",
    "#print(np.unique(f1score_fused_l_o_2))\n",
    "\n",
    "print(np.unique(f1score_fused_l_o_2))\n",
    "\n",
    "Image.fromarray(f1score_fused_l_o_2).save('D:/Nafiseh/building_type/vancouver_f1_score_fused_step_1_classification_final_image.png')\n",
    "\n",
    "np.save('D:/Nafiseh/building_type/vancouver_f1_score_fused_step_1_classification_final.npy', f1score_fused_l_o_2)\n",
    "\n",
    "file_path_vancouver_fused_step_1 = 'D:/Nafiseh/building_type/vancouver_f1_score_fused_step_1_classification_final.png'\n",
    "\n",
    "visualize_and_save_figure(f1score_fused_l_o_2, file_path_vancouver_fused_step_1)"
   ]
  },
  {
   "cell_type": "markdown",
   "metadata": {},
   "source": [
    "## Visualize Fused Classification Map"
   ]
  },
  {
   "cell_type": "code",
   "execution_count": 164,
   "metadata": {},
   "outputs": [],
   "source": [
    "import matplotlib.patches as mpatches\n",
    "\n",
    "from matplotlib.colors import ListedColormap\n",
    "\n",
    "from matplotlib.colors import BoundaryNorm\n",
    "\n",
    "Image.fromarray(f1score_fused_final).save('D:/Nafiseh/building_type/vancouver_f1_score_fused_image_3.png')\n",
    "\n",
    "np.save('D:/Nafiseh/building_type/vancouver_f1_score_fused_3.npy',f1score_fused_final)\n",
    "\n",
    "#f1score_fused_final = np.load('D:/Nafiseh/building_type/vancouver_f1_score_fused.npy')\n",
    "\n",
    "#print(np.unique(f1score_fused_final))\n",
    "\n",
    "file_path_vancouver = 'D:/Nafiseh/building_type/vancouver_f1_score_fused_3.png'\n",
    "\n",
    "visualize_and_save_figure(f1score_fused_final, file_path_vancouver)"
   ]
  },
  {
   "cell_type": "markdown",
   "metadata": {},
   "source": [
    "# Calculate Accuracies For Final Fused Map (Fortworth)"
   ]
  },
  {
   "cell_type": "markdown",
   "metadata": {},
   "source": [
    "## Pixel-Based Accuracy Assessment"
   ]
  },
  {
   "cell_type": "code",
   "execution_count": 66,
   "metadata": {},
   "outputs": [
    {
     "name": "stdout",
     "output_type": "stream",
     "text": [
      "[  0  17  34  51  85  95 102 255] [ 17  51  68  85 102 255]\n"
     ]
    },
    {
     "name": "stderr",
     "output_type": "stream",
     "text": [
      "C:\\Program Files\\ArcGIS\\Pro\\bin\\Python\\envs\\arcgispro-py3\\Lib\\site-packages\\sklearn\\metrics\\_classification.py:1318: UndefinedMetricWarning: Precision and F-score are ill-defined and being set to 0.0 in labels with no predicted samples. Use `zero_division` parameter to control this behavior.\n",
      "  _warn_prf(average, modifier, msg_start, len(result))\n",
      "C:\\Program Files\\ArcGIS\\Pro\\bin\\Python\\envs\\arcgispro-py3\\Lib\\site-packages\\sklearn\\metrics\\_classification.py:1318: UndefinedMetricWarning: Recall and F-score are ill-defined and being set to 0.0 in labels with no true samples. Use `zero_division` parameter to control this behavior.\n",
      "  _warn_prf(average, modifier, msg_start, len(result))\n",
      "C:\\Program Files\\ArcGIS\\Pro\\bin\\Python\\envs\\arcgispro-py3\\Lib\\site-packages\\sklearn\\metrics\\_classification.py:1318: UndefinedMetricWarning: Precision and F-score are ill-defined and being set to 0.0 in labels with no predicted samples. Use `zero_division` parameter to control this behavior.\n",
      "  _warn_prf(average, modifier, msg_start, len(result))\n",
      "C:\\Program Files\\ArcGIS\\Pro\\bin\\Python\\envs\\arcgispro-py3\\Lib\\site-packages\\sklearn\\metrics\\_classification.py:1318: UndefinedMetricWarning: Recall and F-score are ill-defined and being set to 0.0 in labels with no true samples. Use `zero_division` parameter to control this behavior.\n",
      "  _warn_prf(average, modifier, msg_start, len(result))\n",
      "C:\\Program Files\\ArcGIS\\Pro\\bin\\Python\\envs\\arcgispro-py3\\Lib\\site-packages\\sklearn\\metrics\\_classification.py:1318: UndefinedMetricWarning: Precision and F-score are ill-defined and being set to 0.0 in labels with no predicted samples. Use `zero_division` parameter to control this behavior.\n",
      "  _warn_prf(average, modifier, msg_start, len(result))\n",
      "C:\\Program Files\\ArcGIS\\Pro\\bin\\Python\\envs\\arcgispro-py3\\Lib\\site-packages\\sklearn\\metrics\\_classification.py:1318: UndefinedMetricWarning: Recall and F-score are ill-defined and being set to 0.0 in labels with no true samples. Use `zero_division` parameter to control this behavior.\n",
      "  _warn_prf(average, modifier, msg_start, len(result))\n"
     ]
    },
    {
     "name": "stdout",
     "output_type": "stream",
     "text": [
      "                 precision    recall  f1-score   support\n",
      "\n",
      "      apartment       0.00      0.00      0.00    491512\n",
      "         church       0.00      0.00      0.00    166926\n",
      "          house       0.00      0.00      0.00      3596\n",
      "     industrial       0.09      0.10      0.10    444049\n",
      "    residential       0.00      0.00      0.00         0\n",
      "office building       0.43      0.38      0.40   4421130\n",
      "          other       0.00      0.00      0.00    315595\n",
      "         retail       0.01      0.05      0.02    214216\n",
      "     background       0.86      0.89      0.88  20157376\n",
      "\n",
      "       accuracy                           0.75  26214400\n",
      "      macro avg       0.16      0.16      0.15  26214400\n",
      "   weighted avg       0.74      0.75      0.74  26214400\n",
      "\n"
     ]
    }
   ],
   "source": [
    "import numpy as np\n",
    "\n",
    "from sklearn.metrics import classification_report\n",
    "\n",
    "class_names =['apartment','church','house','industrial','residential','office building','other','retail','background']\n",
    "\n",
    "#new_labels = [-1]\n",
    "\n",
    "#############\n",
    "\n",
    "#idxx = np.where((f1score_fused_final != 35) & (f1score_fused_final != 50) & (f1score_fused_final != 52) & (f1score_fused_final != 68) & (f1score_fused_final != 69)\n",
    "         \n",
    "         #& (f1score_fused_final != 94) & (f1score_fused_final != 101) & (f1score_fused_final != 102) & (f1score_fused_final != 112) &\n",
    "         \n",
    "         #(f1score_fused_final != 118) & (f1score_fused_final != 119) & (f1score_fused_final != 120) & (f1score_fused_final != 129) & \n",
    "         \n",
    "         #(f1score_fused_final != 135) & (f1score_fused_final != 136) & (f1score_fused_final != 153) & (f1score_fused_final != 170) &\n",
    "         \n",
    "         #(f1score_fused_final != 180) & (f1score_fused_final != 187) & (f1score_fused_final != 204))\n",
    "        \n",
    "################    \n",
    "\n",
    "#idxx_f = np.where(f1score_fused_final_f != -1)        \n",
    "\n",
    "#f1score_fused_final_f_2 = f1score_fused_final_f[idxx_f]\n",
    "\n",
    "#gt_image_arrayy_f_gsv_2 = gt_image_arrayy_f_gsv[idxx_f]\n",
    "\n",
    "print(np.unique(gt_image_arrayy_f_gsv), np.unique(f1score_fused_final_f))\n",
    "\n",
    "print(classification_report(np.ravel(gt_image_arrayy_f_gsv), np.ravel(f1score_fused_final_f), target_names = class_names))"
   ]
  },
  {
   "cell_type": "markdown",
   "metadata": {},
   "source": [
    "## Object-Based Accuracy Assessment"
   ]
  },
  {
   "cell_type": "code",
   "execution_count": 67,
   "metadata": {},
   "outputs": [
    {
     "ename": "KeyError",
     "evalue": "'GT_2'",
     "output_type": "error",
     "traceback": [
      "\u001b[0;31m---------------------------------------------------------------------------\u001b[0m\n\u001b[0;31mKeyError\u001b[0m                                  Traceback (most recent call last)",
      "In  \u001b[0;34m[67]\u001b[0m:\nLine \u001b[0;34m39\u001b[0m:    gt = np.array(df[\u001b[33m'\u001b[39;49;00m\u001b[33mGT_2\u001b[39;49;00m\u001b[33m'\u001b[39;49;00m])\n",
      "File \u001b[0;34mC:\\Program Files\\ArcGIS\\Pro\\bin\\Python\\envs\\arcgispro-py3\\Lib\\site-packages\\pandas\\core\\frame.py\u001b[0m, in \u001b[0;32m__getitem__\u001b[0m:\nLine \u001b[0;34m3505\u001b[0m:  indexer = \u001b[36mself\u001b[39;49;00m.columns.get_loc(key)\n",
      "File \u001b[0;34mC:\\Program Files\\ArcGIS\\Pro\\bin\\Python\\envs\\arcgispro-py3\\Lib\\site-packages\\pandas\\core\\indexes\\base.py\u001b[0m, in \u001b[0;32mget_loc\u001b[0m:\nLine \u001b[0;34m3631\u001b[0m:  \u001b[34mraise\u001b[39;49;00m \u001b[36mKeyError\u001b[39;49;00m(key) \u001b[34mfrom\u001b[39;49;00m \u001b[04m\u001b[36merr\u001b[39;49;00m\n",
      "\u001b[0;31mKeyError\u001b[0m: 'GT_2'\n\u001b[0;31m---------------------------------------------------------------------------\u001b[0m"
     ]
    }
   ],
   "source": [
    "from PIL import Image\n",
    "\n",
    "import numpy as np\n",
    "\n",
    "import pandas as pd\n",
    "\n",
    "from sklearn.metrics import classification_report\n",
    "\n",
    "def make_labels_same_as_gt(array):\n",
    "    \n",
    "    array [(array == 0) | (array == 34) | (array == 68)] = 4\n",
    "    \n",
    "    array [array == 17] = 1\n",
    "    \n",
    "    array [array == 51] = 0\n",
    "    \n",
    "    array [array == 85] = 2\n",
    "    \n",
    "    array [array == 95] = 3\n",
    "    \n",
    "    array [array == 102] = 5\n",
    "    \n",
    "    array [array == 255] = 6\n",
    "    \n",
    "    return(array)\n",
    "\n",
    "######################################## Labels Guide #####################################################\n",
    "\n",
    "# 17 >> church, 51 >> industrial, 68 >> residential, 85 >> office building, 102 >> retail, 255 >> background\n",
    "\n",
    "# 0 >> industrial, 1 >> institutional, 2 >> office building, 3 >> other, 4 >> residential, 5 >> retail, 6 >> background\n",
    "\n",
    "###########################################################################################################\n",
    "\n",
    "class_names = ['industrial','instiutional','office building','other','residential','retail','background']\n",
    "\n",
    "df = pd.read_csv('D:/Nafiseh/building_type/fortworth_f1_score_fused_zst_majority_spj.csv', sep = '\\t')\n",
    "\n",
    "gt = np.array(df['GT_2'])\n",
    "\n",
    "predictions_f = make_labels_same_as_gt(np.array(df['gridcode']))\n",
    "\n",
    "#print(np.unique(predictions_f))\n",
    "\n",
    "print(classification_report(gt, predictions_f, target_names = class_names))"
   ]
  },
  {
   "cell_type": "markdown",
   "metadata": {},
   "source": [
    "### Confusion Matrix"
   ]
  },
  {
   "cell_type": "markdown",
   "metadata": {},
   "source": [
    "#### F1 Score Fusion"
   ]
  },
  {
   "cell_type": "code",
   "execution_count": 68,
   "metadata": {},
   "outputs": [],
   "source": [
    "from sklearn.metrics import confusion_matrix,ConfusionMatrixDisplay\n",
    "\n",
    "def make_labels_same_as_gt(array):\n",
    "    \n",
    "    array [(array == 0) | (array == 34) | (array == 68)] = 4\n",
    "    \n",
    "    array [array == 17] = 1\n",
    "    \n",
    "    array [array == 51] = 0\n",
    "    \n",
    "    array [array == 85] = 2\n",
    "    \n",
    "    array [array == 95] = 3\n",
    "    \n",
    "    array [array == 102] = 5\n",
    "    \n",
    "    array [array == 255] = 6\n",
    "    \n",
    "    return(array)\n",
    "\n",
    "######################################## Labels Guide #####################################################\n",
    "\n",
    "# 17 >> church, 51 >> industrial, 68 >> residential, 85 >> office building, 102 >> retail, 255 >> background\n",
    "\n",
    "# 0 >> industrial, 1 >> institutional, 2 >> office building, 3 >> other, 4 >> residential, 5 >> retail, 6 >> background\n",
    "\n",
    "###########################################################################################################\n",
    "\n",
    "class_names = ['industrial','instiutional','office building','other','residential','retail','background']\n",
    "\n",
    "df = pd.read_csv('D:/Nafiseh/building_type/fortworth_f1_score_fused_zst_majority_spj.csv')\n",
    "\n",
    "gt = np.array(df['GT_2'])\n",
    "\n",
    "plt.rcParams['font.size'] = 10\n",
    "\n",
    "predictions_f = make_labels_same_as_gt(np.array(df['gridcode']))\n",
    "\n",
    "disp = ConfusionMatrixDisplay(confusion_matrix(gt, predictions_f), display_labels = class_names)\n",
    "\n",
    "disp.plot()\n",
    "\n",
    "plt.show()"
   ]
  },
  {
   "cell_type": "markdown",
   "metadata": {},
   "source": [
    "# Save Results (Fortworth)"
   ]
  },
  {
   "cell_type": "markdown",
   "metadata": {},
   "source": [
    "# Visualize GSV Classification Map"
   ]
  },
  {
   "cell_type": "code",
   "execution_count": 281,
   "metadata": {},
   "outputs": [],
   "source": [
    "import matplotlib.patches as mpatches\n",
    "\n",
    "from matplotlib.colors import ListedColormap\n",
    "\n",
    "Image.fromarray(gsv_image_array_r_f_new).save('D:/Nafiseh/building_type/fortworth_gsv_classification_image.png')\n",
    "\n",
    "np.save('D:/Nafiseh/building_type/fortworth_gsv_classification.npy',gsv_image_array_r_f_new)\n",
    "\n",
    "#gsv_image_array_r_f_new = np.load('D:/Nafiseh/building_type/fortworth_gsv_classification.npy')\n",
    "\n",
    "#print(np.unique(gsv_image_array_r_f_new))\n",
    "\n",
    "file_path_fortworth = 'D:/Nafiseh/building_type/fortworth_gsv_classification_image_3.png'\n",
    "\n",
    "visualize_and_save_figure(gsv_image_array_r_f_new,file_path_fortworth)"
   ]
  },
  {
   "cell_type": "code",
   "execution_count": 179,
   "metadata": {},
   "outputs": [
    {
     "name": "stdout",
     "output_type": "stream",
     "text": [
      "[ 17  51  68  85 102 255]\n"
     ]
    }
   ],
   "source": [
    "import matplotlib.patches as mpatches\n",
    "\n",
    "from matplotlib.colors import ListedColormap\n",
    "\n",
    "Image.fromarray(f1score_fused_final_f).save('D:/Nafiseh/building_type/fortworth_gsv_classification_image.png')\n",
    "\n",
    "np.save('D:/Nafiseh/building_type/fortworth_f1_score_fused_3.npy',f1score_fused_final_f)\n",
    "\n",
    "#f1score_fused_final_f = np.load('D:/Nafiseh/building_type/fortworth_f1_score_fused_2.npy')\n",
    "\n",
    "print(np.unique(f1score_fused_final_f))\n",
    "\n",
    "file_path_fortworth = 'D:/Nafiseh/building_type/fortworth_f1_score_fused_3.png'\n",
    "\n",
    "visualize_and_save_figure(f1score_fused_final_f,file_path_fortworth)"
   ]
  },
  {
   "cell_type": "markdown",
   "metadata": {},
   "source": [
    "# Create Subplots (Fortworth)"
   ]
  },
  {
   "cell_type": "code",
   "execution_count": 70,
   "metadata": {},
   "outputs": [],
   "source": [
    "from PIL import Image\n",
    "\n",
    "import matplotlib.pyplot as plt\n",
    "\n",
    "import matplotlib.patches as mpatches\n",
    "\n",
    "from matplotlib.colors import ListedColormap\n",
    "\n",
    "from matplotlib.colors import BoundaryNorm\n",
    "\n",
    "    \n",
    "blue_patch = mpatches.Patch(color = 'blue', label='apartment')\n",
    "\n",
    "cyan_patch = mpatches.Patch(color = 'cyan', label='church')\n",
    "\n",
    "green_patch = mpatches.Patch(color = 'green', label = 'house')\n",
    "\n",
    "orange_patch = mpatches.Patch(color = 'orange', label = 'industrial')\n",
    "\n",
    "olive_patch = mpatches.Patch(color = 'olive', label = 'residential')\n",
    "\n",
    "darkred_patch = mpatches.Patch(color = 'darkred', label = 'office building')\n",
    "\n",
    "red_patch = mpatches.Patch(color = 'red', label = 'other')\n",
    "\n",
    "magenta_patch = mpatches.Patch(color = 'magenta', label = 'retail')\n",
    "\n",
    "yellow_patch = mpatches.Patch(color = 'yellow', label = 'background')\n",
    "\n",
    "fig, axes = plt.subplots(2,2)\n",
    "\n",
    "plt.rcParams['font.family'] = 'Times New Roman'\n",
    "\n",
    "plt.rcParams['font.size'] = 300\n",
    "\n",
    "plt.rcParams['figure.figsize'] = (300, 150)\n",
    "\n",
    "extent_f = [-97.340242, -97.326509, 32.746281, 32.757833]\n",
    "\n",
    "################# subplot 1 ########################\n",
    "\n",
    "colors_gt = ['blue','cyan','green','orange','darkred','red','magenta', 'yellow']\n",
    "\n",
    "cmap_listed_gt = ListedColormap(colors_gt)\n",
    "\n",
    "u1 = list(np.unique(gt_image_arrayy_f_gsv)-np.array([1])) + [256]\n",
    "\n",
    "axes[0,0].imshow(gt_image_arrayy_f_gsv, cmap = cmap_listed_gt, extent = extent_f, norm = BoundaryNorm(u1, len(u1)))\n",
    "\n",
    "#axes[0,0].legend(handles = [blue_patch, cyan_patch,green_patch, orange_patch, darkred_patch, red_patch, magenta_patch, yellow_patch],\n",
    "                #loc = 'lower left', prop = {'size': 60}, bbox_to_anchor = (-0.2,-0.15))\n",
    "\n",
    "axes[0,0].get_xaxis().get_major_formatter().set_useOffset(False)\n",
    "\n",
    "axes[0,0].get_yaxis().get_major_formatter().set_useOffset(False)\n",
    "\n",
    "axes[0,0].tick_params(labeltop = True, labelbottom = False, labelright = False)\n",
    "\n",
    "axes[0,0].set_xlabel('(a)',fontsize = 250, fontweight = 'bold')\n",
    "\n",
    "axes[0,0].set_ylabel('Latitude', fontsize = 250, fontweight = 'bold')\n",
    "\n",
    "axes[0,0].set_xticks(np.round(np.arange(-97.340242, -97.326509, 0.005),3), fontsize = 250)\n",
    "\n",
    "axes[0,0].set_yticks(np.round(np.arange(32.746281,32.757833,0.005),3), fontsize = 250)\n",
    "\n",
    "################### subplot 2 #######################\n",
    "\n",
    "colors_gsv = ['blue','cyan','green','orange','darkred','red','magenta','yellow']\n",
    "\n",
    "cmap_listed_gsv = ListedColormap(colors_gsv)\n",
    "\n",
    "u2 = list(np.unique(gsv_image_array_r_f_new)-np.array([1])) + [256]\n",
    "\n",
    "axes[0,1].imshow(gsv_image_array_r_f_new, cmap = cmap_listed_gsv, extent = extent_f, norm = BoundaryNorm(u2, len(u2)))\n",
    "\n",
    "#axes[0,1].legend(handles = [blue_patch, cyan_patch,green_patch, orange_patch, darkred_patch, red_patch, magenta_patch, yellow_patch],\n",
    "                #loc = 'lower left', prop={'size':60}, bbox_to_anchor = (-0.1,-0.15))\n",
    "\n",
    "axes[0,1].get_xaxis().get_major_formatter().set_useOffset(False)\n",
    "\n",
    "axes[0,1].get_yaxis().get_major_formatter().set_useOffset(False)\n",
    "\n",
    "axes[0,1].tick_params(labeltop = True, labelbottom = False, labelright = True, labelleft=False)\n",
    "\n",
    "axes[0,1].set_xlabel('(b)',fontsize = 250, fontweight = 'bold')\n",
    "\n",
    "#axes[0,1].set_ylabel('Latitude', fontsize = 20, fontweight = 'bold')\n",
    "\n",
    "axes[0,1].set_xticks(np.round(np.arange(-97.340242, -97.326509, 0.005),3), fontsize = 250)\n",
    "\n",
    "axes[0,1].set_yticks(np.round(np.arange(32.746281,32.757833,0.005),3), fontsize = 250)\n",
    "\n",
    "#################### subplot 3 ###########################\n",
    "\n",
    "colors_f1_score = ['cyan','orange','olive','darkred','magenta', 'yellow']\n",
    "\n",
    "cmap_listed_f1_score = ListedColormap(colors_f1_score)\n",
    "\n",
    "u3 = list(np.unique(f1score_fused_final_f)-np.array([1])) + [256]\n",
    "\n",
    "axes[1,0].imshow(f1score_fused_final_f, cmap = cmap_listed_f1_score, extent = extent_f, norm = BoundaryNorm(u3,len(u3)))\n",
    "\n",
    "#axes[1,0].legend(handles = [cyan_patch, orange_patch, olive_patch, darkred_patch, magenta_patch, yellow_patch], loc ='lower left',\n",
    "                #prop ={'size': 60}, bbox_to_anchor = (-0.1,-0.15))\n",
    "\n",
    "axes[1,0].legend(handles=[blue_patch, cyan_patch,green_patch, orange_patch, olive_patch, darkred_patch, red_patch, magenta_patch, yellow_patch], loc = 'lower left', prop = {'size': 350},\n",
    "                bbox_to_anchor = (-1.1,-0.15))     \n",
    "\n",
    "axes[1,0].get_xaxis().get_major_formatter().set_useOffset(False)\n",
    "\n",
    "axes[1,0].get_yaxis().get_major_formatter().set_useOffset(False)\n",
    "\n",
    "axes[1,0].tick_params(labeltop = False, labelright = False, pad = 120)\n",
    "\n",
    "axes[1,0].set_xlabel('Longitude \\n \\n (c)',fontsize = 250, fontweight = 'bold')\n",
    "\n",
    "axes[1,0].set_ylabel('Latitude', fontsize = 250, fontweight = 'bold')\n",
    "\n",
    "axes[1,0].set_xticks(np.round(np.arange(-97.340242, -97.326509, 0.005),3), fontsize = 250)\n",
    "\n",
    "axes[1,0].set_yticks(np.round(np.arange(32.746281,32.757833,0.005),3), fontsize = 250)\n",
    "\n",
    "################### subplot 4 ##############################\n",
    "\n",
    "colors_fuzzy = ['green','orange','olive','magenta','yellow']\n",
    "\n",
    "cmap_listed_fuzzy = ListedColormap(colors_fuzzy)\n",
    "\n",
    "gompertz_fortworth = np.array(Image.open('D:/Nafiseh/building_type/fortworth_gompertz_fused.tif'))\n",
    "\n",
    "u4 = list(np.unique(gompertz_fortworth)-np.array([1])) + [256]\n",
    "\n",
    "axes[1,1].imshow(gompertz_fortworth, cmap = cmap_listed_fuzzy, extent = extent_f, norm = BoundaryNorm(u4, len(u4)))\n",
    "\n",
    "#axes[1,1].legend(handles=[green_patch,orange_patch,olive_patch,magenta_patch,yellow_patch], loc = 'lower left', prop = {'size': 60},\n",
    "                #bbox_to_anchor = (-0.1,-0.15))\n",
    " \n",
    "\n",
    "axes[1,1].get_xaxis().get_major_formatter().set_useOffset(False)\n",
    "\n",
    "axes[1,1].get_yaxis().get_major_formatter().set_useOffset(False)\n",
    "\n",
    "axes[1,1].tick_params(labeltop = False, labelright = True, labelleft=False)\n",
    "\n",
    "axes[1,1].set_xlabel('Longitude \\n \\n (d)',fontsize = 250, fontweight = 'bold')\n",
    "\n",
    "#axes[1,1].set_ylabel('Latitude', fontsize = 20, fontweight = 'bold')\n",
    "\n",
    "axes[1,1].set_xticks(np.round(np.arange(-97.340242, -97.326509, 0.005),3), fontsize = 250)\n",
    "\n",
    "axes[1,1].set_yticks(np.round(np.arange(32.746281,32.757833,0.005),3), fontsize = 250)\n",
    "\n",
    "plt.tight_layout()\n",
    "\n",
    "plt.savefig('D:/Nafiseh/building_type/Building_Type_Manuscript/Figures/fortworth_subplots_3.tif',bbox_inches='tight')\n",
    "\n",
    "plt.show()"
   ]
  },
  {
   "cell_type": "markdown",
   "metadata": {},
   "source": [
    "# Visualize Ground Truth (the one relabeled to match GSV classification)"
   ]
  },
  {
   "cell_type": "markdown",
   "metadata": {},
   "source": [
    "### Vancouver"
   ]
  },
  {
   "cell_type": "code",
   "execution_count": 162,
   "metadata": {},
   "outputs": [],
   "source": [
    "from matplotlib.colors import BoundaryNorm\n",
    "\n",
    "file_path_gt_vancouver = 'D:/Nafiseh/building_type/ground_truth_vancouver_relabeled_based_on_gsv_3.png'\n",
    "\n",
    "visualize_and_save_figure(gt_image_arrayy_gsv, file_path_gt_vancouver)"
   ]
  },
  {
   "cell_type": "code",
   "execution_count": 67,
   "metadata": {},
   "outputs": [],
   "source": [
    "plt.imshow(gt_image_arrayy_gsv)\n",
    "\n",
    "plt.show()"
   ]
  },
  {
   "cell_type": "markdown",
   "metadata": {},
   "source": [
    "#### Save GSV Map"
   ]
  },
  {
   "cell_type": "code",
   "execution_count": 74,
   "metadata": {},
   "outputs": [
    {
     "name": "stdout",
     "output_type": "stream",
     "text": [
      "(2560, 2560)\n",
      "[  0  17  34  51  68  85 102 255]\n"
     ]
    }
   ],
   "source": [
    "from PIL import Image\n",
    "\n",
    "from PIL.Image import Resampling\n",
    "\n",
    "import matplotlib.pyplot as plt\n",
    "\n",
    "import matplotlib.patches as mpatches\n",
    "\n",
    "from matplotlib.colors import ListedColormap\n",
    "\n",
    "##############################################################\n",
    "\n",
    "gsv_vancouver = np.array(Image.open('D:/Nafiseh/building_type/GSV_Vancouver_Predicted_Map_2.tif').resize((2560,2560), resample=Resampling.NEAREST))\n",
    "\n",
    "print(gsv_vancouver.shape)\n",
    "\n",
    "print(np.unique(gsv_vancouver))\n",
    "\n",
    "visualize_and_save_figure(gsv_vancouver, 'D:/Nafiseh/building_type/GSV_Vancouver_Predicted_Map_2_color.tif')"
   ]
  },
  {
   "cell_type": "markdown",
   "metadata": {},
   "source": [
    "#### Calculate Pixel-Based Accuracy GSV (Vancouver)"
   ]
  },
  {
   "cell_type": "code",
   "execution_count": 37,
   "metadata": {},
   "outputs": [
    {
     "name": "stdout",
     "output_type": "stream",
     "text": [
      "(2560, 2560)\n",
      "[  0  17  34  51  85  95 102 255]\n"
     ]
    },
    {
     "name": "stderr",
     "output_type": "stream",
     "text": [
      "C:\\Program Files\\ArcGIS\\Pro\\bin\\Python\\envs\\arcgispro-py3\\Lib\\site-packages\\sklearn\\metrics\\_classification.py:1318: UndefinedMetricWarning: Precision and F-score are ill-defined and being set to 0.0 in labels with no predicted samples. Use `zero_division` parameter to control this behavior.\n",
      "  _warn_prf(average, modifier, msg_start, len(result))\n",
      "C:\\Program Files\\ArcGIS\\Pro\\bin\\Python\\envs\\arcgispro-py3\\Lib\\site-packages\\sklearn\\metrics\\_classification.py:1318: UndefinedMetricWarning: Precision and F-score are ill-defined and being set to 0.0 in labels with no predicted samples. Use `zero_division` parameter to control this behavior.\n",
      "  _warn_prf(average, modifier, msg_start, len(result))\n",
      "C:\\Program Files\\ArcGIS\\Pro\\bin\\Python\\envs\\arcgispro-py3\\Lib\\site-packages\\sklearn\\metrics\\_classification.py:1318: UndefinedMetricWarning: Precision and F-score are ill-defined and being set to 0.0 in labels with no predicted samples. Use `zero_division` parameter to control this behavior.\n",
      "  _warn_prf(average, modifier, msg_start, len(result))\n"
     ]
    },
    {
     "name": "stdout",
     "output_type": "stream",
     "text": [
      "                 precision    recall  f1-score   support\n",
      "\n",
      "      apartment       0.47      0.17      0.25   1095697\n",
      "         church       0.00      0.00      0.00     15902\n",
      "          house       0.05      0.15      0.07    118750\n",
      "     industrial       0.00      0.00      0.00     43668\n",
      "office building       0.01      0.03      0.02    180637\n",
      "          other       0.00      0.00      0.00    115192\n",
      "         retail       0.09      0.05      0.07    382736\n",
      "     background       0.84      0.89      0.86   4601018\n",
      "\n",
      "       accuracy                           0.66   6553600\n",
      "      macro avg       0.18      0.16      0.16   6553600\n",
      "   weighted avg       0.68      0.66      0.66   6553600\n",
      "\n"
     ]
    }
   ],
   "source": [
    "from PIL import Image\n",
    "\n",
    "from sklearn.metrics import classification_report\n",
    "\n",
    "class_names = ['apartment','church','house','industrial','office building','other','retail','background']\n",
    "\n",
    "gt_vancouver = np.array(Image.open(r'F:\\Backup_Nafiseh_Hard_Drives\\BIC_GSV.tar\\BIC_GSV\\vancouver_test_region\\vancouver_groundtruth_gray.png'))\n",
    "\n",
    "gt_vancouver_,_ = make_gt_labels_same_as_gsv(gt_vancouver,gsv_vancouver)\n",
    "\n",
    "print(gt_vancouver_.shape)\n",
    "\n",
    "print(np.unique(gt_vancouver_))\n",
    "\n",
    "print(classification_report(np.ravel(gt_vancouver_),np.ravel(gsv_vancouver), target_names = class_names))"
   ]
  },
  {
   "cell_type": "markdown",
   "metadata": {},
   "source": [
    "#### Calculate Object-Based Accuracy GSV (Vancouver)"
   ]
  },
  {
   "cell_type": "code",
   "execution_count": 277,
   "metadata": {},
   "outputs": [
    {
     "name": "stderr",
     "output_type": "stream",
     "text": [
      "C:\\Program Files\\ArcGIS\\Pro\\bin\\Python\\envs\\arcgispro-py3\\Lib\\site-packages\\sklearn\\metrics\\_classification.py:1318: UndefinedMetricWarning: Precision and F-score are ill-defined and being set to 0.0 in labels with no predicted samples. Use `zero_division` parameter to control this behavior.\n",
      "  _warn_prf(average, modifier, msg_start, len(result))\n",
      "C:\\Program Files\\ArcGIS\\Pro\\bin\\Python\\envs\\arcgispro-py3\\Lib\\site-packages\\sklearn\\metrics\\_classification.py:1318: UndefinedMetricWarning: Recall and F-score are ill-defined and being set to 0.0 in labels with no true samples. Use `zero_division` parameter to control this behavior.\n",
      "  _warn_prf(average, modifier, msg_start, len(result))\n",
      "C:\\Program Files\\ArcGIS\\Pro\\bin\\Python\\envs\\arcgispro-py3\\Lib\\site-packages\\sklearn\\metrics\\_classification.py:1318: UndefinedMetricWarning: Precision and F-score are ill-defined and being set to 0.0 in labels with no predicted samples. Use `zero_division` parameter to control this behavior.\n",
      "  _warn_prf(average, modifier, msg_start, len(result))\n",
      "C:\\Program Files\\ArcGIS\\Pro\\bin\\Python\\envs\\arcgispro-py3\\Lib\\site-packages\\sklearn\\metrics\\_classification.py:1318: UndefinedMetricWarning: Recall and F-score are ill-defined and being set to 0.0 in labels with no true samples. Use `zero_division` parameter to control this behavior.\n",
      "  _warn_prf(average, modifier, msg_start, len(result))\n",
      "C:\\Program Files\\ArcGIS\\Pro\\bin\\Python\\envs\\arcgispro-py3\\Lib\\site-packages\\sklearn\\metrics\\_classification.py:1318: UndefinedMetricWarning: Precision and F-score are ill-defined and being set to 0.0 in labels with no predicted samples. Use `zero_division` parameter to control this behavior.\n",
      "  _warn_prf(average, modifier, msg_start, len(result))\n",
      "C:\\Program Files\\ArcGIS\\Pro\\bin\\Python\\envs\\arcgispro-py3\\Lib\\site-packages\\sklearn\\metrics\\_classification.py:1318: UndefinedMetricWarning: Recall and F-score are ill-defined and being set to 0.0 in labels with no true samples. Use `zero_division` parameter to control this behavior.\n",
      "  _warn_prf(average, modifier, msg_start, len(result))\n"
     ]
    },
    {
     "name": "stdout",
     "output_type": "stream",
     "text": [
      "                 precision    recall  f1-score   support\n",
      "\n",
      "      apartment       0.51      0.28      0.36        89\n",
      "         church       0.00      0.00      0.00        13\n",
      "          house       0.25      0.03      0.06        30\n",
      "     industrial       0.00      0.00      0.00         3\n",
      "office building       0.00      0.00      0.00         0\n",
      "          other       0.03      0.20      0.05         5\n",
      "         retail       0.00      0.00      0.00         7\n",
      "     background       0.00      0.00      0.00        19\n",
      "\n",
      "       accuracy                           0.16       166\n",
      "      macro avg       0.10      0.06      0.06       166\n",
      "   weighted avg       0.32      0.16      0.21       166\n",
      "\n"
     ]
    }
   ],
   "source": [
    "import pandas as pd\n",
    "\n",
    "import numpy as np\n",
    "\n",
    "from sklearn.metrics import classification_report\n",
    "\n",
    "class_names = ['apartment','church','house','industrial','office building','other','retail','background']\n",
    "\n",
    "df_v = pd.read_csv('D:/Nafiseh/building_type/vancouver_f1_score_and_gsv_predictions.csv', sep = '\\t')\n",
    "\n",
    "gt_and_pr_gsv_df = pd.DataFrame((df_v['GT_gsv'], df_v['Pr_GSV'])).T\n",
    "\n",
    "gt_and_pr_gsv_df_na_dropped = gt_and_pr_gsv_df.dropna()\n",
    "\n",
    "print(classification_report(np.array(gt_and_pr_gsv_df_na_dropped.iloc[:,0]), np.array(gt_and_pr_gsv_df_na_dropped.iloc[:,1]), target_names= class_names))"
   ]
  },
  {
   "cell_type": "markdown",
   "metadata": {},
   "source": [
    "### Fortworth"
   ]
  },
  {
   "cell_type": "code",
   "execution_count": 177,
   "metadata": {},
   "outputs": [],
   "source": [
    "from matplotlib.colors import BoundaryNorm\n",
    "\n",
    "file_path_gt_fortworth = 'D:/Nafiseh/building_type/ground_truth_fortworth_relabeled_based_on_gsv_3.png'\n",
    "\n",
    "visualize_and_save_figure(gt_image_arrayy_f_gsv, file_path_gt_fortworth)"
   ]
  },
  {
   "cell_type": "code",
   "execution_count": 175,
   "metadata": {},
   "outputs": [
    {
     "name": "stdout",
     "output_type": "stream",
     "text": [
      "[  0  17  34  51  85  95 102 255]\n"
     ]
    }
   ],
   "source": [
    "print(np.unique(gt_image_arrayy_f_gsv))"
   ]
  },
  {
   "cell_type": "markdown",
   "metadata": {},
   "source": [
    "### Save GSV Map (Fortworth)"
   ]
  },
  {
   "cell_type": "code",
   "execution_count": 73,
   "metadata": {},
   "outputs": [
    {
     "name": "stdout",
     "output_type": "stream",
     "text": [
      "(5120, 5120)\n",
      "[  0  17  51  68  85 102 255]\n"
     ]
    }
   ],
   "source": [
    "from PIL import Image\n",
    "\n",
    "from PIL.Image import Resampling\n",
    "\n",
    "import numpy as np\n",
    "\n",
    "gsv_fortworth = np.array(Image.open('D:/Nafiseh/building_type/GSV_Fortworth_Predicted_Map_2.tif').resize((5120,5120),resample = Resampling.NEAREST))\n",
    "\n",
    "print(gsv_fortworth.shape)\n",
    "\n",
    "print(np.unique(gsv_fortworth))\n",
    "\n",
    "visualize_and_save_figure(gsv_fortworth, 'D:/Nafiseh/building_type/GSV_Fortworth_Predicted_Map_2_color.tif')"
   ]
  },
  {
   "cell_type": "markdown",
   "metadata": {},
   "source": [
    "#### Calculate Pixel-Based Accuracy GSV (Fortworth)"
   ]
  },
  {
   "cell_type": "code",
   "execution_count": 53,
   "metadata": {},
   "outputs": [
    {
     "name": "stdout",
     "output_type": "stream",
     "text": [
      "(5120, 5120)\n",
      "[  0  17  34  51  85  95 102 255]\n"
     ]
    },
    {
     "name": "stderr",
     "output_type": "stream",
     "text": [
      "C:\\Program Files\\ArcGIS\\Pro\\bin\\Python\\envs\\arcgispro-py3\\Lib\\site-packages\\sklearn\\metrics\\_classification.py:1318: UndefinedMetricWarning: Precision and F-score are ill-defined and being set to 0.0 in labels with no predicted samples. Use `zero_division` parameter to control this behavior.\n",
      "  _warn_prf(average, modifier, msg_start, len(result))\n",
      "C:\\Program Files\\ArcGIS\\Pro\\bin\\Python\\envs\\arcgispro-py3\\Lib\\site-packages\\sklearn\\metrics\\_classification.py:1318: UndefinedMetricWarning: Precision and F-score are ill-defined and being set to 0.0 in labels with no predicted samples. Use `zero_division` parameter to control this behavior.\n",
      "  _warn_prf(average, modifier, msg_start, len(result))\n",
      "C:\\Program Files\\ArcGIS\\Pro\\bin\\Python\\envs\\arcgispro-py3\\Lib\\site-packages\\sklearn\\metrics\\_classification.py:1318: UndefinedMetricWarning: Precision and F-score are ill-defined and being set to 0.0 in labels with no predicted samples. Use `zero_division` parameter to control this behavior.\n",
      "  _warn_prf(average, modifier, msg_start, len(result))\n"
     ]
    },
    {
     "name": "stdout",
     "output_type": "stream",
     "text": [
      "                 precision    recall  f1-score   support\n",
      "\n",
      "      apartment       0.00      0.00      0.00    491512\n",
      "         church       0.01      0.02      0.01    166926\n",
      "          house       0.00      0.00      0.00      3596\n",
      "     industrial       0.00      0.00      0.00    444049\n",
      "office building       0.41      0.30      0.35   4421130\n",
      "          other       0.00      0.00      0.00    315595\n",
      "         retail       0.01      0.04      0.01    214216\n",
      "     background       0.88      0.87      0.88  20157376\n",
      "\n",
      "       accuracy                           0.72  26214400\n",
      "      macro avg       0.16      0.15      0.16  26214400\n",
      "   weighted avg       0.75      0.72      0.73  26214400\n",
      "\n"
     ]
    }
   ],
   "source": [
    "from PIL import Image\n",
    "\n",
    "import numpy as np\n",
    "\n",
    "from sklearn.metrics import classification_report\n",
    "\n",
    "class_names = ['apartment','church','house','industrial','office building','other','retail','background']\n",
    "\n",
    "gt_fortworth,_ = make_gt_labels_same_as_gsv(np.array(Image.open(r'F:\\Backup_Nafiseh_Hard_Drives\\BIC_GSV.tar\\BIC_GSV\\fortworth_test_region\\fortworth_groundtruth_gray.png')),gsv_fortworth)\n",
    "\n",
    "print(gt_fortworth.shape)\n",
    "\n",
    "print(np.unique(gt_fortworth))\n",
    "\n",
    "print(classification_report(np.ravel(gt_fortworth), np.ravel(gsv_fortworth), target_names = class_names))"
   ]
  },
  {
   "cell_type": "markdown",
   "metadata": {},
   "source": [
    "#### Calculate Object-Based Accuracy GSV (Fortworth)"
   ]
  },
  {
   "cell_type": "code",
   "execution_count": 275,
   "metadata": {},
   "outputs": [
    {
     "name": "stderr",
     "output_type": "stream",
     "text": [
      "C:\\Program Files\\ArcGIS\\Pro\\bin\\Python\\envs\\arcgispro-py3\\Lib\\site-packages\\sklearn\\metrics\\_classification.py:1318: UndefinedMetricWarning: Precision and F-score are ill-defined and being set to 0.0 in labels with no predicted samples. Use `zero_division` parameter to control this behavior.\n",
      "  _warn_prf(average, modifier, msg_start, len(result))\n",
      "C:\\Program Files\\ArcGIS\\Pro\\bin\\Python\\envs\\arcgispro-py3\\Lib\\site-packages\\sklearn\\metrics\\_classification.py:1318: UndefinedMetricWarning: Precision and F-score are ill-defined and being set to 0.0 in labels with no predicted samples. Use `zero_division` parameter to control this behavior.\n",
      "  _warn_prf(average, modifier, msg_start, len(result))\n",
      "C:\\Program Files\\ArcGIS\\Pro\\bin\\Python\\envs\\arcgispro-py3\\Lib\\site-packages\\sklearn\\metrics\\_classification.py:1318: UndefinedMetricWarning: Precision and F-score are ill-defined and being set to 0.0 in labels with no predicted samples. Use `zero_division` parameter to control this behavior.\n",
      "  _warn_prf(average, modifier, msg_start, len(result))\n"
     ]
    },
    {
     "name": "stdout",
     "output_type": "stream",
     "text": [
      "                 precision    recall  f1-score   support\n",
      "\n",
      "     industrial       0.00      0.00      0.00         4\n",
      "  institutional       0.00      0.00      0.00        15\n",
      "office building       0.20      0.05      0.08        97\n",
      "          other       0.22      0.42      0.29       102\n",
      "    residential       0.07      0.03      0.04        74\n",
      "         retail       0.08      0.29      0.12        21\n",
      "     background       0.00      0.00      0.00        60\n",
      "\n",
      "       accuracy                           0.15       373\n",
      "      macro avg       0.08      0.11      0.08       373\n",
      "   weighted avg       0.13      0.15      0.11       373\n",
      "\n"
     ]
    }
   ],
   "source": [
    "import pandas as pd\n",
    "\n",
    "import numpy as np\n",
    "\n",
    "from sklearn.metrics import classification_report\n",
    "\n",
    "########################################## Label Guide ##########################################################################\n",
    "\n",
    "# GSV : 0 >> apartment, 1 >> church, 2 >> house, 3 >> industrial, 4 >> office building, 5 >> other, 6 >> retail, 7 >> background\n",
    "\n",
    "# Ground Truth : 0 >> industrial, 1 >> institutional, 2 >> office building, 3 >> other, 4 >> residential, 5 >> retail, 6 >> background\n",
    "\n",
    "#################################################################################################################################\n",
    "\n",
    "def make_gsv_labels_same_as_gt(array):\n",
    "    \n",
    "    idx_res = np.where((array == 0) | (array == 2))\n",
    "    \n",
    "    idx_insti = np.where(array == 1)\n",
    "    \n",
    "    idx_indust = np.where(array == 3)\n",
    "    \n",
    "    idx_office = np.where(array == 4)\n",
    "    \n",
    "    idx_other = np.where(array == 5)\n",
    "    \n",
    "    idx_retail = np.where(array == 6)\n",
    "    \n",
    "    idx_back = np.where(array == 7)\n",
    "    \n",
    "    array[idx_indust] = 0\n",
    "    \n",
    "    array[idx_insti] = 1\n",
    "    \n",
    "    array[idx_office] = 2\n",
    "    \n",
    "    array[idx_other] = 3\n",
    "    \n",
    "    array[idx_res] = 4\n",
    "    \n",
    "    array[idx_retail] = 5\n",
    "    \n",
    "    array[idx_back] = 6\n",
    "    \n",
    "    #print(np.unique(array))\n",
    "    \n",
    "    return(array)\n",
    "\n",
    "class_names = ['industrial','institutional','office building','other','residential','retail','background']\n",
    "\n",
    "df_f = pd.read_csv('D:/Nafiseh/building_type/fortworth_f1_score_and_gsv_predictions.csv')\n",
    "\n",
    "gt_and_pr_gsv_df_f = pd.DataFrame((df_f['GT_2'],df_f['Pr_GSV'])).T\n",
    "\n",
    "gt_and_pr_gsv_df_na_dropped_f = gt_and_pr_gsv_df_f.dropna()\n",
    "\n",
    "print(classification_report(np.array(gt_and_pr_gsv_df_na_dropped_f.iloc[:,0]), make_gsv_labels_same_as_gt(np.array(gt_and_pr_gsv_df_na_dropped_f.iloc[:,1])),\n",
    "                           \n",
    "                           target_names = class_names))"
   ]
  },
  {
   "cell_type": "markdown",
   "metadata": {},
   "source": [
    "#### Save GSV Map"
   ]
  },
  {
   "cell_type": "code",
   "execution_count": null,
   "metadata": {},
   "outputs": [],
   "source": [
    "from PIL import Image\n",
    "\n",
    "import matplotlib.pyplot as plt\n",
    "##############################################################\n",
    "\n",
    "gsv_fortworth = np.array(Image.open('D:/Nafiseh/building_type/GSV_Fortworth_Predicted_Map_2.tif'))\n",
    "\n",
    "visualize_and_save_figure(gsv_fortworth, 'D:/Nafiseh/building_type/GSV_Fortworth_Predicted_Map_2_color.tif')"
   ]
  },
  {
   "cell_type": "markdown",
   "metadata": {},
   "source": [
    "# Create Subplots of Orthophoto and Ground Turth Maps"
   ]
  },
  {
   "cell_type": "markdown",
   "metadata": {},
   "source": [
    "## Vancouver"
   ]
  },
  {
   "cell_type": "code",
   "execution_count": 3,
   "metadata": {},
   "outputs": [],
   "source": [
    "def make_gt_labels_same_as_gsv(gt):\n",
    "    \n",
    "        \n",
    "    gtt = np.copy(gt)\n",
    "\n",
    "    gtt [gt == 0] = 255 #background\n",
    "\n",
    "    gtt [gt == 29] = 0  #apartment\n",
    "\n",
    "    gtt [gt == 38] = 85 #office building\n",
    "\n",
    "    gtt [gt == 142] = 51 #industrial\n",
    "    \n",
    "    gtt [gt == 150] = 34 #house\n",
    "\n",
    "    gtt [gt == 105] = 102 # retail\n",
    "    \n",
    "    gtt [gt == 179] = 17 #church\n",
    "\n",
    "    gtt [(gt == 76) | (gt == 90)] = 95 #roof and garage >> other\n",
    "    \n",
    "    #gsv [gsv == 68] = 34  #there is no mixed r/c in ground truth so I relabeld them to house\n",
    "    \n",
    "    return(gtt)"
   ]
  },
  {
   "cell_type": "code",
   "execution_count": 15,
   "metadata": {},
   "outputs": [],
   "source": [
    "import matplotlib.pyplot as plt\n",
    "\n",
    "import matplotlib.patches as mpatches\n",
    "\n",
    "from PIL import Image\n",
    "\n",
    "from matplotlib.colors import ListedColormap\n",
    "\n",
    "from matplotlib.colors import BoundaryNorm\n",
    "\n",
    "import numpy as np\n",
    "\n",
    "ortho = np.array(Image.open('D:/Nafiseh/building_type/orthophoto_vancouver.tif'))\n",
    "\n",
    "ground_truth = make_gt_labels_same_as_gsv(np.array(Image.open(r'F:\\Backup_Nafiseh_Hard_Drives\\BIC_GSV.tar\\BIC_GSV\\vancouver_test_region\\vancouver_groundtruth_gray.png')))\n",
    "\n",
    "#####################################\n",
    "\n",
    "blue_patch = mpatches.Patch(color = 'blue', label='apartment')\n",
    "\n",
    "cyan_patch = mpatches.Patch(color = 'cyan', label='church')\n",
    "\n",
    "green_patch = mpatches.Patch(color = 'green', label = 'house')\n",
    "\n",
    "orange_patch = mpatches.Patch(color = 'orange', label = 'industrial')\n",
    "\n",
    "darkred_patch = mpatches.Patch(color = 'darkred', label = 'office building')\n",
    "\n",
    "red_patch = mpatches.Patch(color = 'red', label = 'other')\n",
    "\n",
    "magenta_patch = mpatches.Patch(color = 'magenta', label = 'retail')\n",
    "\n",
    "yellow_patch = mpatches.Patch(color = 'yellow', label = 'background')\n",
    "\n",
    "colors = ['blue','cyan','green','orange','darkred','red','magenta', 'yellow']\n",
    "\n",
    "u = np.unique(ground_truth)\n",
    "\n",
    "color_bins = list(u-np.array([1]))+[256]\n",
    "\n",
    "##########################################\n",
    "\n",
    "plt.rcParams['font.family'] = 'Times New Roman'\n",
    "\n",
    "plt.rcParams['font.size'] = 250\n",
    "\n",
    "plt.rcParams['figure.figsize'] = (250,80)\n",
    "\n",
    "fig, axes = plt.subplots(1,2)\n",
    "\n",
    "fig.set_dpi(200)\n",
    "\n",
    "axes[0].get_xaxis().get_major_formatter().set_useOffset(False)\n",
    "\n",
    "axes[0].get_yaxis().get_major_formatter().set_useOffset(False)\n",
    "\n",
    "axes[0].tick_params(labeltop = True, pad = 35)\n",
    "\n",
    "axes[0].imshow(ortho, extent = [-123.136140, -123.129303, 49.280349, 49.284829])\n",
    "\n",
    "axes[0].set_xticks(np.round(np.arange(-123.136140, -123.129303, 0.003),3))\n",
    "\n",
    "axes[0].set_yticks(np.round(np.arange(49.280349, 49.284829, 0.002),3))\n",
    "\n",
    "axes[0].set_xlabel('(a) \\n \\n Longitude (deg)',fontweight='bold', fontsize = 250)\n",
    "\n",
    "axes[0].set_ylabel('Latitude (deg)',fontweight='bold', fontsize = 250)\n",
    "\n",
    "###############################################\n",
    "\n",
    "axes[1].get_xaxis().get_major_formatter().set_useOffset(False)\n",
    "\n",
    "axes[1].get_yaxis().get_major_formatter().set_useOffset(False)\n",
    "\n",
    "axes[1].tick_params(labeltop = True, labelleft = False, labelright = True)\n",
    "\n",
    "axes[1].imshow(ground_truth, cmap = ListedColormap(colors), norm = BoundaryNorm((color_bins), len(color_bins)), extent = [-123.136140, -123.129303, 49.280349, 49.284829])\n",
    "\n",
    "axes[1].set_xticks(np.round(np.arange(-123.136140, -123.129303, 0.003),3))\n",
    "\n",
    "axes[1].set_yticks(np.round(np.arange(49.280349, 49.284829, 0.002),3))\n",
    "\n",
    "axes[1].set_xlabel('(b) \\n \\n Longitude (deg)', fontweight='bold', fontsize = 250)\n",
    "\n",
    "#axes[1].set_ylabel('Latitude (deg)', fontweight='bold', fontsize = 85)\n",
    "\n",
    "axes[1].legend(handles=[blue_patch, cyan_patch, green_patch, orange_patch, darkred_patch, red_patch, magenta_patch, yellow_patch], prop = {'size' : 250}, loc = 'right', bbox_to_anchor = (1.5, 0.5))\n",
    "\n",
    "plt.tight_layout()\n",
    "\n",
    "plt.savefig('D:/Nafiseh/building_type/Building_Type_Manuscript/Figures/ortho_gt_vancouver_2.tif',bbox_inches='tight')\n",
    "\n",
    "plt.show()\n"
   ]
  },
  {
   "cell_type": "markdown",
   "metadata": {},
   "source": [
    "## Fort Worth"
   ]
  },
  {
   "cell_type": "code",
   "execution_count": 18,
   "metadata": {},
   "outputs": [],
   "source": [
    "import matplotlib.pyplot as plt\n",
    "\n",
    "import matplotlib.patches as mpatches\n",
    "\n",
    "from PIL import Image\n",
    "\n",
    "from osgeo import gdal\n",
    "\n",
    "from matplotlib.colors import ListedColormap\n",
    "\n",
    "from matplotlib.colors import BoundaryNorm\n",
    "\n",
    "ortho_gdal = gdal.Open('D:/Nafiseh/building_type/orthophoto_fortworth.tif')\n",
    "\n",
    "ortho = np.moveaxis(ortho_gdal.ReadAsArray(),0,-1)\n",
    "\n",
    "ground_truth = make_gt_labels_same_as_gsv(np.array(Image.open(r'F:\\Backup_Nafiseh_Hard_Drives\\BIC_GSV.tar\\BIC_GSV\\fortworth_test_region\\fortworth_groundtruth_gray.png')))\n",
    "\n",
    "#####################################\n",
    "\n",
    "blue_patch = mpatches.Patch(color = 'blue', label='apartment')\n",
    "\n",
    "cyan_patch = mpatches.Patch(color = 'cyan', label='church')\n",
    "\n",
    "green_patch = mpatches.Patch(color = 'green', label = 'house')\n",
    "\n",
    "orange_patch = mpatches.Patch(color = 'orange', label = 'industrial')\n",
    "\n",
    "darkred_patch = mpatches.Patch(color = 'darkred', label = 'office building')\n",
    "\n",
    "red_patch = mpatches.Patch(color = 'red', label = 'other')\n",
    "\n",
    "magenta_patch = mpatches.Patch(color = 'magenta', label = 'retail')\n",
    "\n",
    "yellow_patch = mpatches.Patch(color = 'yellow', label = 'background')\n",
    "\n",
    "colors = ['blue','cyan','green','orange','darkred','red','magenta', 'yellow']\n",
    "\n",
    "u = np.unique(ground_truth)\n",
    "\n",
    "color_bins = list(u-np.array([1]))+[256]\n",
    "\n",
    "##########################################\n",
    "\n",
    "plt.rcParams['font.family'] = 'Times New Roman'\n",
    "\n",
    "plt.rcParams['font.size'] = 250\n",
    "\n",
    "plt.rcParams['figure.figsize'] = (250,80)\n",
    "\n",
    "fig, axes = plt.subplots(1,2)\n",
    "\n",
    "fig.set_dpi(200)\n",
    "\n",
    "axes[0].get_xaxis().get_major_formatter().set_useOffset(False)\n",
    "\n",
    "axes[0].get_yaxis().get_major_formatter().set_useOffset(False)\n",
    "\n",
    "axes[0].tick_params(labeltop = True, pad = 35)\n",
    "\n",
    "axes[0].imshow(ortho[:,:,:3], extent = [-97.340242, -97.326509, 32.746281, 32.757833])\n",
    "\n",
    "axes[0].set_xticks(np.round(np.arange(-97.340242, -97.326509, 0.005),3))\n",
    "\n",
    "axes[0].set_yticks(np.round(np.arange(32.746281, 32.757833, 0.005),3))\n",
    "\n",
    "axes[0].set_xlabel('(a) \\n \\n Longitude (deg)',fontweight='bold', fontsize = 250)\n",
    "\n",
    "axes[0].set_ylabel('Latitude (deg)',fontweight='bold', fontsize = 250)\n",
    "\n",
    "###############################################\n",
    "\n",
    "axes[1].get_xaxis().get_major_formatter().set_useOffset(False)\n",
    "\n",
    "axes[1].get_yaxis().get_major_formatter().set_useOffset(False)\n",
    "\n",
    "axes[1].tick_params(labeltop = True, labelleft = False, labelright = True)\n",
    "\n",
    "axes[1].imshow(ground_truth, cmap = ListedColormap(colors), norm = BoundaryNorm((color_bins), len(color_bins)), extent = [-97.340242, -97.326509, 32.746281, 32.757833])\n",
    "\n",
    "axes[1].set_xticks(np.round(np.arange(-97.340242, -97.326590, 0.005),3))\n",
    "\n",
    "axes[1].set_yticks(np.round(np.arange(32.746281, 32.757833, 0.005),3))\n",
    "\n",
    "axes[1].set_xlabel('(b) \\n \\n Longitude (deg)', fontweight='bold', fontsize = 250)\n",
    "\n",
    "#axes[1].set_ylabel('Latitude (deg)', fontweight='bold', fontsize = 85)\n",
    "\n",
    "axes[1].legend(handles=[blue_patch, cyan_patch, green_patch, orange_patch, darkred_patch, red_patch, magenta_patch, yellow_patch], loc = 'right', prop = {'size': 250}, bbox_to_anchor = (1.7, 0.5))\n",
    "\n",
    "plt.tight_layout()\n",
    "\n",
    "plt.savefig('D:/Nafiseh/building_type/Building_Type_Manuscript/Figures/ortho_gt_fortworth_2.tif',bbox_inches='tight')\n",
    "\n",
    "plt.show()\n"
   ]
  },
  {
   "cell_type": "markdown",
   "metadata": {},
   "source": [
    "# Ground Truths Side By Side"
   ]
  },
  {
   "cell_type": "code",
   "execution_count": 33,
   "metadata": {},
   "outputs": [],
   "source": [
    "import matplotlib.pyplot as plt\n",
    "\n",
    "import matplotlib.patches as mpatches\n",
    "\n",
    "from PIL import Image\n",
    "\n",
    "from matplotlib.colors import ListedColormap\n",
    "\n",
    "from matplotlib.colors import BoundaryNorm\n",
    "\n",
    "import numpy as np\n",
    "\n",
    "ground_truth = make_gt_labels_same_as_gsv(np.array(Image.open(r'F:\\Backup_Nafiseh_Hard_Drives\\BIC_GSV.tar\\BIC_GSV\\vancouver_test_region\\vancouver_groundtruth_gray.png')))\n",
    "\n",
    "ground_truth_2 = make_gt_labels_same_as_gsv(np.array(Image.open(r'F:\\Backup_Nafiseh_Hard_Drives\\BIC_GSV.tar\\BIC_GSV\\fortworth_test_region\\fortworth_groundtruth_gray.png')))\n",
    "\n",
    "#####################################\n",
    "\n",
    "blue_patch = mpatches.Patch(color = 'blue', label='apartment')\n",
    "\n",
    "cyan_patch = mpatches.Patch(color = 'cyan', label='church')\n",
    "\n",
    "green_patch = mpatches.Patch(color = 'green', label = 'house')\n",
    "\n",
    "orange_patch = mpatches.Patch(color = 'orange', label = 'industrial')\n",
    "\n",
    "darkred_patch = mpatches.Patch(color = 'darkred', label = 'office building')\n",
    "\n",
    "red_patch = mpatches.Patch(color = 'red', label = 'other')\n",
    "\n",
    "magenta_patch = mpatches.Patch(color = 'magenta', label = 'retail')\n",
    "\n",
    "yellow_patch = mpatches.Patch(color = 'yellow', label = 'background')\n",
    "\n",
    "handles=[blue_patch, cyan_patch, green_patch, orange_patch, darkred_patch, red_patch, magenta_patch, yellow_patch]\n",
    "\n",
    "labels=['apartment','church','house','industrial','office building','other','retail','background']\n",
    "\n",
    "colors = ['blue','cyan','green','orange','darkred','red','magenta', 'yellow']\n",
    "\n",
    "u = np.unique(ground_truth)\n",
    "\n",
    "color_bins = list(u-np.array([1]))+[256]\n",
    "\n",
    "##########################################\n",
    "\n",
    "plt.rcParams['font.family'] = 'Times New Roman'\n",
    "\n",
    "plt.rcParams['font.size'] = 250\n",
    "\n",
    "plt.rcParams['figure.figsize'] = (250,80)\n",
    "\n",
    "fig, axes = plt.subplots(1,2)\n",
    "\n",
    "fig.set_dpi(200)\n",
    "\n",
    "axes[0].get_xaxis().get_major_formatter().set_useOffset(False)\n",
    "\n",
    "axes[0].get_yaxis().get_major_formatter().set_useOffset(False)\n",
    "\n",
    "axes[0].tick_params(labeltop = True, pad = 35)\n",
    "\n",
    "axes[0].imshow(ground_truth, cmap = ListedColormap(colors), norm = BoundaryNorm((color_bins), len(color_bins)), extent = [-123.136140, -123.129303, 49.280349, 49.284829])\n",
    "\n",
    "axes[0].set_xticks(np.round(np.arange(-123.136140, -123.129303, 0.003),3))\n",
    "\n",
    "axes[0].set_yticks(np.round(np.arange(49.280349, 49.284829, 0.002),3))\n",
    "\n",
    "axes[0].set_xlabel('(a) \\n \\n Longitude (deg)',fontweight='bold', fontsize = 250)\n",
    "\n",
    "axes[0].set_ylabel('Latitude (deg)',fontweight='bold', fontsize = 250)\n",
    "\n",
    "###############################################\n",
    "u = np.unique(ground_truth_2)\n",
    "\n",
    "color_bins = list(u-np.array([1]))+[256]\n",
    "###############################################\n",
    "\n",
    "axes[1].get_xaxis().get_major_formatter().set_useOffset(False)\n",
    "\n",
    "axes[1].get_yaxis().get_major_formatter().set_useOffset(False)\n",
    "\n",
    "axes[1].tick_params(labeltop = True, labelleft = False, labelright = True)\n",
    "\n",
    "axes[1].imshow(ground_truth_2, cmap = ListedColormap(colors), norm = BoundaryNorm((color_bins), len(color_bins)), extent = [-97.340242, -97.326509, 32.746281, 32.757833])\n",
    "\n",
    "#axes[1].set_xticks(np.round(np.arange(-123.136140, -123.129303, 0.003),3))\n",
    "\n",
    "#axes[1].set_yticks(np.round(np.arange(49.280349, 49.284829, 0.002),3))\n",
    "\n",
    "axes[1].set_xticks(np.round(np.arange(-97.340242, -97.326590, 0.005),3))\n",
    "\n",
    "axes[1].set_yticks(np.round(np.arange(32.746281, 32.757833, 0.005),3))\n",
    "\n",
    "axes[1].set_xlabel('(b) \\n \\n Longitude (deg)', fontweight='bold', fontsize = 250)\n",
    "\n",
    "#axes[1].set_ylabel('Latitude (deg)', fontweight='bold', fontsize = 85)\n",
    "\n",
    "#axes[1].legend(handles=[blue_patch, cyan_patch, green_patch, orange_patch, darkred_patch, red_patch, magenta_patch, yellow_patch], prop = {'size' : 250}, loc = 'right', bbox_to_anchor = (-0.05, 0.05))\n",
    "\n",
    "fig.legend(handles,labels,loc='lower center')\n",
    "\n",
    "plt.tight_layout()\n",
    "\n",
    "plt.savefig('D:/Nafiseh/building_type/Building_Type_Manuscript/Figures/Ground_Truth_2.tif',bbox_inches='tight')\n",
    "\n",
    "plt.show()\n"
   ]
  },
  {
   "cell_type": "code",
   "execution_count": null,
   "metadata": {},
   "outputs": [],
   "source": []
  }
 ],
 "metadata": {
  "kernelspec": {
   "display_name": "ArcGISPro",
   "language": "Python",
   "name": "python3"
  },
  "language_info": {
   "file_extension": ".py",
   "name": "python",
   "version": "3"
  }
 },
 "nbformat": 4,
 "nbformat_minor": 2
}
