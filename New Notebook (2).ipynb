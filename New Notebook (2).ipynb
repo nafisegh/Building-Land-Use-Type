{
 "cells": [
  {
   "cell_type": "markdown",
   "metadata": {},
   "source": [
    "# Find Matching Building IDs"
   ]
  },
  {
   "cell_type": "code",
   "execution_count": 31,
   "metadata": {},
   "outputs": [],
   "source": [
    "import os, glob, shutil\n",
    "\n",
    "import numpy as np\n",
    "\n",
    "gsv_path = 'D:/Nafiseh/Building_Footprint_Clip/Data_GSV_3/'\n",
    "\n",
    "lidar_path = 'D:/Nafiseh/Building_Footprint_Clip/Data_statistics_nDSM_var_stacked_p1/'\n",
    "\n",
    "ortho_path = 'D:/Nafiseh/Building_Footprint_Clip/Data_Orthophoto/'\n",
    "\n",
    "\n",
    "gsv_files = glob.glob(gsv_path+'*/*.jpg', recursive=True)\n",
    "\n",
    "lidar_files = glob.glob(lidar_path+'*.tif')\n",
    "\n",
    "ortho_files = glob.glob(ortho_path+'*.tif')\n",
    "\n",
    "\n",
    "lidar_files_names = [os.path.basename(f).split('_statistics_nDSM_var.tif')[0] for f in lidar_files]\n",
    "\n",
    "ortho_files_names = [os.path.basename(f).split('.tif')[0] for f in ortho_files]\n",
    "\n",
    "\n",
    "def find_and_copy_matching_building_ids(gsv_files, files, files_names, new_path):\n",
    "\n",
    "    for f in gsv_files:\n",
    "\n",
    "        if os.path.basename(f).split('.jpg')[0] in files_names:\n",
    "\n",
    "            try:\n",
    "                #print(f)\n",
    "\n",
    "                class_folder_and_file = f.split('Data_GSV_3\\\\')[1]\n",
    "\n",
    "                os.makedirs(new_path+class_folder_and_file.split('\\\\')[0])\n",
    "\n",
    "                index = np.where(np.array(files_names) == os.path.basename(f).split('.jpg')[0])\n",
    "\n",
    "                shutil.copy(files[index[0][0]], new_path+class_folder_and_file.split('.jpg')[0]+'.tif') \n",
    "\n",
    "            except Exception as error:\n",
    "                \n",
    "                raise(error)\n",
    "            \n",
    "\n",
    "new_lidar_path = 'D:/Nafiseh/Building_Footprint_Clip/Data_LiDAR_3/'\n",
    "\n",
    "new_ortho_path = 'D:/Nafiseh/Building_Footprint_Clip/Data_ortho_3/'\n",
    "\n",
    "find_and_copy_matching_building_ids(gsv_files, ortho_files, ortho_files_names, new_ortho_path)\n"
   ]
  },
  {
   "cell_type": "code",
   "execution_count": 6,
   "metadata": {},
   "outputs": [
    {
     "name": "stdout",
     "output_type": "stream",
     "text": [
      "D:/Nafiseh/Building_Footprint_Clip/cross_validation_r_statistics_nDSM_var_other_removed\\fold_1\\test\\industrial\\35200050115021_statistics_nDSM_var.tif\n"
     ]
    }
   ],
   "source": [
    "print(lidar_files[0])"
   ]
  },
  {
   "cell_type": "code",
   "execution_count": null,
   "metadata": {},
   "outputs": [],
   "source": []
  }
 ],
 "metadata": {
  "kernelspec": {
   "display_name": "ArcGISPro",
   "language": "Python",
   "name": "python3"
  },
  "language_info": {
   "file_extension": ".py",
   "name": "python",
   "version": "3"
  }
 },
 "nbformat": 4,
 "nbformat_minor": 2
}
